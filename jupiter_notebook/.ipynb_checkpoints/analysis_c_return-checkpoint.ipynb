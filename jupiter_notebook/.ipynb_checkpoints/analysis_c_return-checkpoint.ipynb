{
 "cells": [
  {
   "cell_type": "code",
   "execution_count": 3,
   "metadata": {},
   "outputs": [],
   "source": [
    "import pandas as pd\n",
    "import numpy as np\n",
    "\n",
    "df = pd.read_excel(\"/Users/luru/Downloads/c-return.xlsx\")\n"
   ]
  },
  {
   "cell_type": "code",
   "execution_count": 10,
   "metadata": {},
   "outputs": [
    {
     "data": {
      "text/plain": [
       "Index(['return-date', 'order-id', 'sku', 'asin', 'fnsku', 'product-name',\n",
       "       'quantity', 'fulfillment-center-id', 'detailed-disposition', 'reason',\n",
       "       'status', 'license-plate-number', 'customer-comments'],\n",
       "      dtype='object')"
      ]
     },
     "execution_count": 10,
     "metadata": {},
     "output_type": "execute_result"
    }
   ],
   "source": [
    "df.columns\n"
   ]
  },
  {
   "cell_type": "code",
   "execution_count": 19,
   "metadata": {},
   "outputs": [
    {
     "data": {
      "text/html": [
       "<div>\n",
       "<style scoped>\n",
       "    .dataframe tbody tr th:only-of-type {\n",
       "        vertical-align: middle;\n",
       "    }\n",
       "\n",
       "    .dataframe tbody tr th {\n",
       "        vertical-align: top;\n",
       "    }\n",
       "\n",
       "    .dataframe thead th {\n",
       "        text-align: right;\n",
       "    }\n",
       "</style>\n",
       "<table border=\"1\" class=\"dataframe\">\n",
       "  <thead>\n",
       "    <tr style=\"text-align: right;\">\n",
       "      <th></th>\n",
       "      <th>return-date</th>\n",
       "      <th>order-id</th>\n",
       "      <th>sku</th>\n",
       "      <th>asin</th>\n",
       "      <th>fnsku</th>\n",
       "      <th>product-name</th>\n",
       "      <th>quantity</th>\n",
       "      <th>fulfillment-center-id</th>\n",
       "      <th>detailed-disposition</th>\n",
       "      <th>reason</th>\n",
       "      <th>status</th>\n",
       "      <th>license-plate-number</th>\n",
       "      <th>customer-comments</th>\n",
       "    </tr>\n",
       "  </thead>\n",
       "  <tbody>\n",
       "    <tr>\n",
       "      <td>0</td>\n",
       "      <td>2019-10-17T21:58:22+00:00</td>\n",
       "      <td>306-2083383-1724332</td>\n",
       "      <td>14011005-3B_1389319</td>\n",
       "      <td>B076Z2SVF4</td>\n",
       "      <td>X000RRNGSH</td>\n",
       "      <td>oodji Ultra Damen Tailliertes Kleid mit Ausges...</td>\n",
       "      <td>1</td>\n",
       "      <td>KTW1</td>\n",
       "      <td>SELLABLE</td>\n",
       "      <td>UNWANTED_ITEM</td>\n",
       "      <td>Unit returned to inventory</td>\n",
       "      <td>LPNHK016412994</td>\n",
       "      <td>NaN</td>\n",
       "    </tr>\n",
       "  </tbody>\n",
       "</table>\n",
       "</div>"
      ],
      "text/plain": [
       "                 return-date             order-id                  sku  \\\n",
       "0  2019-10-17T21:58:22+00:00  306-2083383-1724332  14011005-3B_1389319   \n",
       "\n",
       "         asin       fnsku                                       product-name  \\\n",
       "0  B076Z2SVF4  X000RRNGSH  oodji Ultra Damen Tailliertes Kleid mit Ausges...   \n",
       "\n",
       "   quantity fulfillment-center-id detailed-disposition         reason  \\\n",
       "0         1                  KTW1             SELLABLE  UNWANTED_ITEM   \n",
       "\n",
       "                       status license-plate-number customer-comments  \n",
       "0  Unit returned to inventory       LPNHK016412994               NaN  "
      ]
     },
     "execution_count": 19,
     "metadata": {},
     "output_type": "execute_result"
    }
   ],
   "source": [
    "df[0:1]"
   ]
  },
  {
   "cell_type": "code",
   "execution_count": 18,
   "metadata": {},
   "outputs": [
    {
     "data": {
      "text/plain": [
       "(3862, 13)"
      ]
     },
     "execution_count": 18,
     "metadata": {},
     "output_type": "execute_result"
    }
   ],
   "source": [
    "df.shape"
   ]
  },
  {
   "cell_type": "code",
   "execution_count": 16,
   "metadata": {},
   "outputs": [
    {
     "data": {
      "text/plain": [
       "APPAREL_TOO_SMALL                     1450\n",
       "APPAREL_TOO_LARGE                      887\n",
       "APPAREL_STYLE                          661\n",
       "UNWANTED_ITEM                          207\n",
       "MISORDERED                             200\n",
       "NO_REASON_GIVEN                        131\n",
       "DEFECTIVE                               83\n",
       "QUALITY_UNACCEPTABLE                    52\n",
       "UNDELIVERABLE_UNKNOWN                   47\n",
       "NOT_AS_DESCRIBED                        45\n",
       "MISSED_ESTIMATED_DELIVERY               20\n",
       "ORDERED_WRONG_ITEM                      19\n",
       "DAMAGED_BY_CARRIER                      18\n",
       "SWITCHEROO                              15\n",
       "UNDELIVERABLE_REFUSED                   12\n",
       "NEVER_ARRIVED                            8\n",
       "NOT_COMPATIBLE                           3\n",
       "UNDELIVERABLE_INSUFFICIENT_ADDRESS       3\n",
       "FOUND_BETTER_PRICE                       1\n",
       "Name: reason, dtype: int64"
      ]
     },
     "execution_count": 16,
     "metadata": {},
     "output_type": "execute_result"
    }
   ],
   "source": [
    "df[\"reason\"].value_counts()"
   ]
  },
  {
   "cell_type": "code",
   "execution_count": 20,
   "metadata": {},
   "outputs": [
    {
     "data": {
      "text/plain": [
       "0                                                     NaN\n",
       "1                                                     NaN\n",
       "2                                                     NaN\n",
       "3                                                     NaN\n",
       "4                                                     NaN\n",
       "                              ...                        \n",
       "3857                                                  NaN\n",
       "3858                                                  NaN\n",
       "3859                                                  NaN\n",
       "3860    Es ist kein reinkommen in den Stiefel schaft v...\n",
       "3861                                                  NaN\n",
       "Name: customer-comments, Length: 3862, dtype: object"
      ]
     },
     "execution_count": 20,
     "metadata": {},
     "output_type": "execute_result"
    }
   ],
   "source": [
    "df[\"customer-comments\"]"
   ]
  },
  {
   "cell_type": "code",
   "execution_count": 23,
   "metadata": {},
   "outputs": [
    {
     "data": {
      "text/plain": [
       "7                                      Problemas de talla\n",
       "9                                      Problemas de talla\n",
       "10                                     Problemas de talla\n",
       "21                        Not finished particularly well.\n",
       "22         Wanted a matching set but colour didn't match.\n",
       "                              ...                        \n",
       "3814                         Ist das blau wie vorgestellt\n",
       "3819                              Reissverschluss schr√§g\n",
       "3821                                              za male\n",
       "3853                      leider gef√§llt die Farbe nicht\n",
       "3860    Es ist kein reinkommen in den Stiefel schaft v...\n",
       "Name: customer-comments, Length: 487, dtype: object"
      ]
     },
     "execution_count": 23,
     "metadata": {},
     "output_type": "execute_result"
    }
   ],
   "source": [
    "df2 = df[\"customer-comments\"].dropna()\n",
    "df2"
   ]
  },
  {
   "cell_type": "code",
   "execution_count": 26,
   "metadata": {},
   "outputs": [
    {
     "data": {
      "text/plain": [
       "(487,)"
      ]
     },
     "execution_count": 26,
     "metadata": {},
     "output_type": "execute_result"
    }
   ],
   "source": [
    "df2.shape"
   ]
  },
  {
   "cell_type": "code",
   "execution_count": null,
   "metadata": {},
   "outputs": [],
   "source": []
  }
 ],
 "metadata": {
  "kernelspec": {
   "display_name": "Python 3",
   "language": "python",
   "name": "python3"
  },
  "language_info": {
   "codemirror_mode": {
    "name": "ipython",
    "version": 3
   },
   "file_extension": ".py",
   "mimetype": "text/x-python",
   "name": "python",
   "nbconvert_exporter": "python",
   "pygments_lexer": "ipython3",
   "version": "3.7.4"
  }
 },
 "nbformat": 4,
 "nbformat_minor": 4
}
