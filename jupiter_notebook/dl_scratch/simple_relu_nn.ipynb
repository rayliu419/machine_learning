{
 "cells": [
  {
   "cell_type": "code",
   "execution_count": 1,
   "metadata": {},
   "outputs": [
    {
     "name": "stdout",
     "output_type": "stream",
     "text": [
      "x.shape\n",
      " (64, 1000)\n",
      "y.shape\n",
      " (64, 10)\n",
      "w1.shape\n",
      " (1000, 100)\n",
      "w2.shape\n",
      " (100, 10)\n"
     ]
    }
   ],
   "source": [
    "import numpy as np\n",
    "\n",
    "sample_num = 64\n",
    "sample_feature = 1000\n",
    "hidden_units = 100\n",
    "# 每个unit的输出维度？\n",
    "hidden_output_dim = 10\n",
    "\n",
    "learning_rate = 1e-6\n",
    "\n",
    "x = np.random.randn(sample_num, sample_feature)\n",
    "y = np.random.randn(sample_num, hidden_output_dim)\n",
    "\n",
    "# 神经网络的权重\n",
    "# 每个hidden unit有一个vector对应feature, 1000个feature, 1000个权重，每个unit 1000个权重\n",
    "w1 = np.random.randn(sample_feature, hidden_units)\n",
    "# 与上面类似。\n",
    "w2 = np.random.randn(hidden_units, hidden_output_dim)\n",
    "\n",
    "print(\"x.shape\\n\", x.shape)\n",
    "print(\"y.shape\\n\", y.shape)\n",
    "print(\"w1.shape\\n\", w1.shape)\n",
    "print(\"w2.shape\\n\", w2.shape)"
   ]
  },
  {
   "cell_type": "code",
   "execution_count": null,
   "metadata": {},
   "outputs": [],
   "source": [
    "\"\"\"\n",
    "前向传播 \n",
    "\"\"\"\n",
    "def forward(x): \n",
    "    # 1d数组内积，2d数学矩阵乘法，注意不一样。\n",
    "    # hidden unit的结果 \n",
    "    h = x.dot(w1)\n",
    "    # h.shape (64,100)\n",
    "    # element-wise maximum，可以直接作用到2d情况\n",
    "    relu_output = np.maximum(h, 0)\n",
    "    # relu_output.shape (64, 100)\n",
    "    y_predict = relu_output.dot(w2)\n",
    "    # yhat.shape (64, 100)\n",
    "    return y_predict\n",
    "    \n",
    "\"\"\"\n",
    "loss function - MSE\n",
    "BGD - 在更新参数时使用所有的样本来进行更新。\n",
    "\"\"\"\n",
    "def loss(y_predict, y):\n",
    "    y_diff = y_predict - y\n",
    "    # shape = (64, 100)\n",
    "    y_diff_square = np.square(y_diff)\n",
    "    # shape - ?\n",
    "    return y_diff_square.sum()\n",
    "\n",
    "\"\"\"\n",
    "反向传播函数，更新w1, w2\n",
    "实际上这里的loss函数是\n",
    "loss = (y - w2 * relu(w1 * x))^2，要想这个尽量小，loss对w2, w1求导。\n",
    "loss对w2求导：\n",
    "2(y - w2 * relu(w1 * x)) * relu(w1 * x), 而w2 * relu(w1 * x)其实就是y_predict，前面已经结算完了。\n",
    "\"\"\"\n",
    "def back_propagation(y_predict, y, x, w1, w2):\n",
    "    grad_y_predict = 2.0 * (y_predict - y) \n",
    "    grad_w2 = np.maximum(x.dot(w1), 0).T.dot(grad_y_predict)\n",
    "    w2 -= learning_rate * grad_w2 \n",
    "    \n",
    "    \n",
    "    "
   ]
  }
 ],
 "metadata": {
  "kernelspec": {
   "display_name": "Python 3",
   "language": "python",
   "name": "python3"
  },
  "language_info": {
   "codemirror_mode": {
    "name": "ipython",
    "version": 3
   },
   "file_extension": ".py",
   "mimetype": "text/x-python",
   "name": "python",
   "nbconvert_exporter": "python",
   "pygments_lexer": "ipython3",
   "version": "3.7.4"
  }
 },
 "nbformat": 4,
 "nbformat_minor": 4
}
