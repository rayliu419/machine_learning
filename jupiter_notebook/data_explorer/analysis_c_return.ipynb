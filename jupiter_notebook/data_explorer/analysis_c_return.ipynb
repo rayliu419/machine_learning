{
 "cells": [
  {
   "cell_type": "code",
   "execution_count": 5,
   "metadata": {},
   "outputs": [
    {
     "name": "stdout",
     "output_type": "stream",
     "text": [
      "Requirement already satisfied: pandas-profiling in /Users/ray/opt/anaconda3/lib/python3.7/site-packages (2.4.0)\n",
      "Requirement already satisfied: astropy in /Users/ray/opt/anaconda3/lib/python3.7/site-packages (from pandas-profiling) (3.2.2)\n",
      "Requirement already satisfied: jinja2>=2.8 in /Users/ray/opt/anaconda3/lib/python3.7/site-packages (from pandas-profiling) (2.10.3)\n",
      "Requirement already satisfied: phik>=0.9.8 in /Users/ray/opt/anaconda3/lib/python3.7/site-packages (from pandas-profiling) (0.9.9)\n",
      "Requirement already satisfied: matplotlib>=1.4 in /Users/ray/opt/anaconda3/lib/python3.7/site-packages (from pandas-profiling) (3.1.1)\n",
      "Requirement already satisfied: confuse>=1.0.0 in /Users/ray/opt/anaconda3/lib/python3.7/site-packages (from pandas-profiling) (1.0.0)\n",
      "Requirement already satisfied: htmlmin>=0.1.12 in /Users/ray/opt/anaconda3/lib/python3.7/site-packages (from pandas-profiling) (0.1.12)\n",
      "Requirement already satisfied: pandas>=0.19 in /Users/ray/opt/anaconda3/lib/python3.7/site-packages (from pandas-profiling) (0.25.1)\n",
      "Requirement already satisfied: missingno>=0.4.2 in /Users/ray/opt/anaconda3/lib/python3.7/site-packages (from pandas-profiling) (0.4.2)\n",
      "Requirement already satisfied: numpy>=1.13 in /Users/ray/opt/anaconda3/lib/python3.7/site-packages (from astropy->pandas-profiling) (1.17.2)\n",
      "Requirement already satisfied: MarkupSafe>=0.23 in /Users/ray/opt/anaconda3/lib/python3.7/site-packages (from jinja2>=2.8->pandas-profiling) (1.1.1)\n",
      "Requirement already satisfied: jupyter-client>=5.2.3 in /Users/ray/opt/anaconda3/lib/python3.7/site-packages (from phik>=0.9.8->pandas-profiling) (5.3.3)\n",
      "Requirement already satisfied: joblib>=0.14.1 in /Users/ray/opt/anaconda3/lib/python3.7/site-packages (from phik>=0.9.8->pandas-profiling) (0.14.1)\n",
      "Requirement already satisfied: pytest-pylint>=0.13.0 in /Users/ray/opt/anaconda3/lib/python3.7/site-packages (from phik>=0.9.8->pandas-profiling) (0.14.1)\n",
      "Requirement already satisfied: pytest>=4.0.2 in /Users/ray/opt/anaconda3/lib/python3.7/site-packages (from phik>=0.9.8->pandas-profiling) (5.2.1)\n",
      "Requirement already satisfied: nbconvert>=5.3.1 in /Users/ray/opt/anaconda3/lib/python3.7/site-packages (from phik>=0.9.8->pandas-profiling) (5.6.0)\n",
      "Requirement already satisfied: numba>=0.38.1 in /Users/ray/opt/anaconda3/lib/python3.7/site-packages (from phik>=0.9.8->pandas-profiling) (0.45.1)\n",
      "Requirement already satisfied: scipy>=1.1.0 in /Users/ray/opt/anaconda3/lib/python3.7/site-packages (from phik>=0.9.8->pandas-profiling) (1.3.1)\n",
      "Requirement already satisfied: cycler>=0.10 in /Users/ray/opt/anaconda3/lib/python3.7/site-packages (from matplotlib>=1.4->pandas-profiling) (0.10.0)\n",
      "Requirement already satisfied: kiwisolver>=1.0.1 in /Users/ray/opt/anaconda3/lib/python3.7/site-packages (from matplotlib>=1.4->pandas-profiling) (1.1.0)\n",
      "Requirement already satisfied: pyparsing!=2.0.4,!=2.1.2,!=2.1.6,>=2.0.1 in /Users/ray/opt/anaconda3/lib/python3.7/site-packages (from matplotlib>=1.4->pandas-profiling) (2.4.2)\n",
      "Requirement already satisfied: python-dateutil>=2.1 in /Users/ray/opt/anaconda3/lib/python3.7/site-packages (from matplotlib>=1.4->pandas-profiling) (2.8.0)\n",
      "Requirement already satisfied: pyyaml in /Users/ray/opt/anaconda3/lib/python3.7/site-packages (from confuse>=1.0.0->pandas-profiling) (5.1.2)\n",
      "Requirement already satisfied: pytz>=2017.2 in /Users/ray/opt/anaconda3/lib/python3.7/site-packages (from pandas>=0.19->pandas-profiling) (2019.3)\n",
      "Requirement already satisfied: seaborn in /Users/ray/opt/anaconda3/lib/python3.7/site-packages (from missingno>=0.4.2->pandas-profiling) (0.9.0)\n",
      "Requirement already satisfied: tornado>=4.1 in /Users/ray/opt/anaconda3/lib/python3.7/site-packages (from jupyter-client>=5.2.3->phik>=0.9.8->pandas-profiling) (6.0.3)\n",
      "Requirement already satisfied: traitlets in /Users/ray/opt/anaconda3/lib/python3.7/site-packages (from jupyter-client>=5.2.3->phik>=0.9.8->pandas-profiling) (4.3.3)\n",
      "Requirement already satisfied: jupyter-core in /Users/ray/opt/anaconda3/lib/python3.7/site-packages (from jupyter-client>=5.2.3->phik>=0.9.8->pandas-profiling) (4.5.0)\n",
      "Requirement already satisfied: pyzmq>=13 in /Users/ray/opt/anaconda3/lib/python3.7/site-packages (from jupyter-client>=5.2.3->phik>=0.9.8->pandas-profiling) (18.1.0)\n",
      "Requirement already satisfied: pylint>=1.4.5 in /Users/ray/opt/anaconda3/lib/python3.7/site-packages (from pytest-pylint>=0.13.0->phik>=0.9.8->pandas-profiling) (2.4.2)\n",
      "Requirement already satisfied: six in /Users/ray/opt/anaconda3/lib/python3.7/site-packages (from pytest-pylint>=0.13.0->phik>=0.9.8->pandas-profiling) (1.12.0)\n",
      "Requirement already satisfied: py>=1.5.0 in /Users/ray/opt/anaconda3/lib/python3.7/site-packages (from pytest>=4.0.2->phik>=0.9.8->pandas-profiling) (1.8.0)\n",
      "Requirement already satisfied: packaging in /Users/ray/opt/anaconda3/lib/python3.7/site-packages (from pytest>=4.0.2->phik>=0.9.8->pandas-profiling) (19.2)\n",
      "Requirement already satisfied: attrs>=17.4.0 in /Users/ray/opt/anaconda3/lib/python3.7/site-packages (from pytest>=4.0.2->phik>=0.9.8->pandas-profiling) (19.2.0)\n",
      "Requirement already satisfied: more-itertools>=4.0.0 in /Users/ray/opt/anaconda3/lib/python3.7/site-packages (from pytest>=4.0.2->phik>=0.9.8->pandas-profiling) (7.2.0)\n",
      "Requirement already satisfied: atomicwrites>=1.0 in /Users/ray/opt/anaconda3/lib/python3.7/site-packages (from pytest>=4.0.2->phik>=0.9.8->pandas-profiling) (1.3.0)\n",
      "Requirement already satisfied: pluggy<1.0,>=0.12 in /Users/ray/opt/anaconda3/lib/python3.7/site-packages (from pytest>=4.0.2->phik>=0.9.8->pandas-profiling) (0.13.0)\n",
      "Requirement already satisfied: wcwidth in /Users/ray/opt/anaconda3/lib/python3.7/site-packages (from pytest>=4.0.2->phik>=0.9.8->pandas-profiling) (0.1.7)\n",
      "Requirement already satisfied: importlib-metadata>=0.12 in /Users/ray/opt/anaconda3/lib/python3.7/site-packages (from pytest>=4.0.2->phik>=0.9.8->pandas-profiling) (0.23)\n",
      "Requirement already satisfied: pygments in /Users/ray/opt/anaconda3/lib/python3.7/site-packages (from nbconvert>=5.3.1->phik>=0.9.8->pandas-profiling) (2.4.2)\n",
      "Requirement already satisfied: bleach in /Users/ray/opt/anaconda3/lib/python3.7/site-packages (from nbconvert>=5.3.1->phik>=0.9.8->pandas-profiling) (3.1.0)\n",
      "Requirement already satisfied: defusedxml in /Users/ray/opt/anaconda3/lib/python3.7/site-packages (from nbconvert>=5.3.1->phik>=0.9.8->pandas-profiling) (0.6.0)\n",
      "Requirement already satisfied: testpath in /Users/ray/opt/anaconda3/lib/python3.7/site-packages (from nbconvert>=5.3.1->phik>=0.9.8->pandas-profiling) (0.4.2)\n",
      "Requirement already satisfied: mistune<2,>=0.8.1 in /Users/ray/opt/anaconda3/lib/python3.7/site-packages (from nbconvert>=5.3.1->phik>=0.9.8->pandas-profiling) (0.8.4)\n",
      "Requirement already satisfied: entrypoints>=0.2.2 in /Users/ray/opt/anaconda3/lib/python3.7/site-packages (from nbconvert>=5.3.1->phik>=0.9.8->pandas-profiling) (0.3)\n",
      "Requirement already satisfied: nbformat>=4.4 in /Users/ray/opt/anaconda3/lib/python3.7/site-packages (from nbconvert>=5.3.1->phik>=0.9.8->pandas-profiling) (4.4.0)\n",
      "Requirement already satisfied: pandocfilters>=1.4.1 in /Users/ray/opt/anaconda3/lib/python3.7/site-packages (from nbconvert>=5.3.1->phik>=0.9.8->pandas-profiling) (1.4.2)\n",
      "Requirement already satisfied: llvmlite>=0.29.0dev0 in /Users/ray/opt/anaconda3/lib/python3.7/site-packages (from numba>=0.38.1->phik>=0.9.8->pandas-profiling) (0.29.0)\n",
      "Requirement already satisfied: setuptools in /Users/ray/opt/anaconda3/lib/python3.7/site-packages (from kiwisolver>=1.0.1->matplotlib>=1.4->pandas-profiling) (41.4.0)\n",
      "Requirement already satisfied: decorator in /Users/ray/opt/anaconda3/lib/python3.7/site-packages (from traitlets->jupyter-client>=5.2.3->phik>=0.9.8->pandas-profiling) (4.4.0)\n",
      "Requirement already satisfied: ipython-genutils in /Users/ray/opt/anaconda3/lib/python3.7/site-packages (from traitlets->jupyter-client>=5.2.3->phik>=0.9.8->pandas-profiling) (0.2.0)\n",
      "Requirement already satisfied: mccabe<0.7,>=0.6 in /Users/ray/opt/anaconda3/lib/python3.7/site-packages (from pylint>=1.4.5->pytest-pylint>=0.13.0->phik>=0.9.8->pandas-profiling) (0.6.1)\n",
      "Requirement already satisfied: isort<5,>=4.2.5 in /Users/ray/opt/anaconda3/lib/python3.7/site-packages (from pylint>=1.4.5->pytest-pylint>=0.13.0->phik>=0.9.8->pandas-profiling) (4.3.21)\n",
      "Requirement already satisfied: astroid<2.4,>=2.3.0 in /Users/ray/opt/anaconda3/lib/python3.7/site-packages (from pylint>=1.4.5->pytest-pylint>=0.13.0->phik>=0.9.8->pandas-profiling) (2.3.1)\n",
      "Requirement already satisfied: zipp>=0.5 in /Users/ray/opt/anaconda3/lib/python3.7/site-packages (from importlib-metadata>=0.12->pytest>=4.0.2->phik>=0.9.8->pandas-profiling) (0.6.0)\n",
      "Requirement already satisfied: webencodings in /Users/ray/opt/anaconda3/lib/python3.7/site-packages (from bleach->nbconvert>=5.3.1->phik>=0.9.8->pandas-profiling) (0.5.1)\n",
      "Requirement already satisfied: jsonschema!=2.5.0,>=2.4 in /Users/ray/opt/anaconda3/lib/python3.7/site-packages (from nbformat>=4.4->nbconvert>=5.3.1->phik>=0.9.8->pandas-profiling) (3.0.2)\n",
      "Requirement already satisfied: typed-ast<1.5,>=1.4.0; implementation_name == \"cpython\" and python_version < \"3.8\" in /Users/ray/opt/anaconda3/lib/python3.7/site-packages (from astroid<2.4,>=2.3.0->pylint>=1.4.5->pytest-pylint>=0.13.0->phik>=0.9.8->pandas-profiling) (1.4.1)\n",
      "Requirement already satisfied: wrapt==1.11.* in /Users/ray/opt/anaconda3/lib/python3.7/site-packages (from astroid<2.4,>=2.3.0->pylint>=1.4.5->pytest-pylint>=0.13.0->phik>=0.9.8->pandas-profiling) (1.11.2)\n",
      "Requirement already satisfied: lazy-object-proxy==1.4.* in /Users/ray/opt/anaconda3/lib/python3.7/site-packages (from astroid<2.4,>=2.3.0->pylint>=1.4.5->pytest-pylint>=0.13.0->phik>=0.9.8->pandas-profiling) (1.4.2)\n",
      "Requirement already satisfied: pyrsistent>=0.14.0 in /Users/ray/opt/anaconda3/lib/python3.7/site-packages (from jsonschema!=2.5.0,>=2.4->nbformat>=4.4->nbconvert>=5.3.1->phik>=0.9.8->pandas-profiling) (0.15.4)\n"
     ]
    }
   ],
   "source": [
    "import pandas as pd\n",
    "import sys\n",
    "!{sys.executable} -m pip install pandas-profiling\n",
    "import glob\n",
    "\n",
    "pd.set_option('display.max_rows', 500)\n",
    "pd.set_option('display.max_columns', 500)\n",
    "pd.set_option('display.max_colwidth', -1) # show full column text.\n",
    "\n",
    "def print_count_percentage(df):\n",
    "    df_with_count_percentage = pd.concat([df.value_counts(), df.value_counts(normalize=True) * 100], axis=1, keys=(\"counts\", \"percentage\"))\n",
    "    return df_with_count_percentage\n",
    "\n",
    "def read_dir_txt_to_df(dir):\n",
    "    files = glob.glob(dir)\n",
    "    files\n",
    "    df = pd.concat([pd.read_csv(f, sep=\"\\t\") for f in files], ignore_index = True)\n",
    "    return df\n",
    "\n",
    "df = read_dir_txt_to_df(\"./input/*.txt\")"
   ]
  },
  {
   "cell_type": "code",
   "execution_count": 6,
   "metadata": {},
   "outputs": [],
   "source": [
    "# 这是一个用来做数据探索的库，能够较好的显示一些常用的信息。\n",
    "pfr = pandas_profiling.ProfileReport(df)\n",
    "pfr.to_file(\"./c-return.html\")"
   ]
  },
  {
   "cell_type": "code",
   "execution_count": null,
   "metadata": {},
   "outputs": [],
   "source": [
    "df_comments_counts = print_count_percentage(df[\"customer-comments\"])\n",
    "df_comments_counts"
   ]
  },
  {
   "cell_type": "code",
   "execution_count": null,
   "metadata": {},
   "outputs": [],
   "source": [
    "df_reason_counts = print_count_percentage(df[\"reason\"])\n",
    "df_reason_counts"
   ]
  },
  {
   "cell_type": "code",
   "execution_count": null,
   "metadata": {},
   "outputs": [],
   "source": [
    "df_asin = df.groupby(\"asin\")\n",
    "df_asin_value_counts = df_asin[\"reason\"].value_counts()\n",
    "df_asin_value_counts\n",
    "df_asin_value_counts.to_excel(\"./output_data/before.xlsx\")"
   ]
  },
  {
   "cell_type": "code",
   "execution_count": null,
   "metadata": {},
   "outputs": [],
   "source": [
    "# 注意filter以后又变成了dataframe，要重新groupby\n",
    "df_filter = df.groupby(\"asin\").filter(lambda x: len(x) > 1)\n",
    "df_asin_filter = df_filter.groupby(\"asin\")\n",
    "# groupby以后是一个DataframeGroupBy对象，对其某列做value_counts()会把相应的key聚合在一起，这是一个常用的功能\n",
    "df_asin_filter_value_counts = df_asin_filter[\"reason\"].value_counts()\n",
    "\n",
    "df_asin_filter_value_counts.to_excel(\"./output_data/after.xlsx\")"
   ]
  },
  {
   "cell_type": "code",
   "execution_count": null,
   "metadata": {},
   "outputs": [],
   "source": []
  }
 ],
 "metadata": {
  "kernelspec": {
   "display_name": "Python 3",
   "language": "python",
   "name": "python3"
  },
  "language_info": {
   "codemirror_mode": {
    "name": "ipython",
    "version": 3
   },
   "file_extension": ".py",
   "mimetype": "text/x-python",
   "name": "python",
   "nbconvert_exporter": "python",
   "pygments_lexer": "ipython3",
   "version": "3.7.4"
  }
 },
 "nbformat": 4,
 "nbformat_minor": 4
}
