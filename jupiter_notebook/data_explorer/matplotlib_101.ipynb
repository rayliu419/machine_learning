{
 "cells": [
  {
   "cell_type": "code",
   "execution_count": null,
   "metadata": {},
   "outputs": [],
   "source": [
    "\"\"\"\n",
    "matplotlib学习\n",
    "\"\"\"\n",
    "\n",
    "import numpy as np \n",
    "from matplotlib import pyplot as plt \n",
    "\n",
    "\"\"\"\n",
    "几个重要函数\n",
    "plt.plot - 传入x/y\n",
    "plt.xlabel\n",
    "plt.ylabel\n",
    "plt.legned\n",
    "plt.show\n",
    "\"\"\"\n",
    "\n",
    "x = np.arange(1,11) \n",
    "y =  2  * x +  5 \n",
    "print(x)\n",
    "print(y)\n",
    "plt.title(\"Matplotlib demo\") \n",
    "plt.xlabel(\"x axis\") \n",
    "plt.ylabel(\"y axis\") \n",
    "# 默认直线\n",
    "plt.plot(x,y) \n",
    "plt.show()"
   ]
  },
  {
   "cell_type": "code",
   "execution_count": null,
   "metadata": {},
   "outputs": [],
   "source": [
    "# o - 圆点, b - blue\n",
    "plt.plot(x, y, \"ob\")\n",
    "plt.show()"
   ]
  },
  {
   "cell_type": "code",
   "execution_count": null,
   "metadata": {},
   "outputs": [],
   "source": [
    "# 多条曲线，带label \n",
    "z = 3 * x + 6\n",
    "plt.plot(x, y)\n",
    "plt.plot(x, z)\n",
    "plt.legend([\"y = 2  * x +  5\", \"z = 3 * x + 6\"])\n",
    "plt.show()"
   ]
  },
  {
   "cell_type": "code",
   "execution_count": null,
   "metadata": {},
   "outputs": [],
   "source": [
    "# 几个图画在一起，使用subplot来告诉当前正在画哪个图。\n",
    "# 开始画一个2*2的第1个图\n",
    "plt.subplot(2,2,1)\n",
    "plt.plot(x, y)\n",
    "# 开始画一个2*2的第2个图\n",
    "plt.subplot(2,2,2)\n",
    "plt.plot(x, z)\n",
    "# 开始画一个2*1的第2个图，实际上2*1的第1个图被上面占据了\n",
    "# 这里比较难以理解，相当于一个混合坐标系\n",
    "plt.subplot(2,1,2)\n",
    "plt.plot(x, y)\n",
    "plt.plot(x, z)\n",
    "plt.legend([\"y = 2  * x +  5\", \"z = 3 * x + 6\"])\n",
    "plt.show()"
   ]
  },
  {
   "cell_type": "code",
   "execution_count": null,
   "metadata": {},
   "outputs": [],
   "source": []
  }
 ],
 "metadata": {
  "kernelspec": {
   "display_name": "Python 3",
   "language": "python",
   "name": "python3"
  },
  "language_info": {
   "codemirror_mode": {
    "name": "ipython",
    "version": 3
   },
   "file_extension": ".py",
   "mimetype": "text/x-python",
   "name": "python",
   "nbconvert_exporter": "python",
   "pygments_lexer": "ipython3",
   "version": "3.7.6"
  }
 },
 "nbformat": 4,
 "nbformat_minor": 4
}
