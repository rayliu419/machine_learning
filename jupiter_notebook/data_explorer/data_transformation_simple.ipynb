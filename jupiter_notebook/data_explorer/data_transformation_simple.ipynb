{
 "cells": [
  {
   "cell_type": "code",
   "execution_count": null,
   "metadata": {},
   "outputs": [],
   "source": [
    "\"\"\"\n",
    "pandas某些行的transformation\n",
    "由于机器学习模型只接受数值，所以要将不同的数据类型转为数值\n",
    "\n",
    "\"\"\"\n",
    "import pandas as pd\n",
    "import numpy as np\n",
    "\n",
    "\"\"\"\n",
    "字段说明\n",
    "   1. X - x-axis spatial coordinate within the Montesinho park map: 1 to 9\n",
    "   2. Y - y-axis spatial coordinate within the Montesinho park map: 2 to 9\n",
    "   3. month - month of the year: \"jan\" to \"dec\" \n",
    "   4. day - day of the week: \"mon\" to \"sun\"\n",
    "   5. FFMC - FFMC index from the FWI system: 18.7 to 96.20\n",
    "   6. DMC - DMC index from the FWI system: 1.1 to 291.3 \n",
    "   7. DC - DC index from the FWI system: 7.9 to 860.6 \n",
    "   8. ISI - ISI index from the FWI system: 0.0 to 56.10\n",
    "   9. temp - temperature in Celsius degrees: 2.2 to 33.30\n",
    "   10. RH - relative humidity in %: 15.0 to 100\n",
    "   11. wind - wind speed in km/h: 0.40 to 9.40 \n",
    "   12. rain - outside rain in mm/m2 : 0.0 to 6.4 \n",
    "   13. area - the burned area of the forest (in ha): 0.00 to 1090.84 \n",
    "   (this output variable is very skewed towards 0.0, thus it may make\n",
    "    sense to model with the logarithm transform). \n",
    "\"\"\"\n",
    "\n",
    "df = pd.read_csv(\"./input/forestfires.csv\", sep=\",\") \n",
    "df.head(5)\n"
   ]
  },
  {
   "cell_type": "code",
   "execution_count": null,
   "metadata": {},
   "outputs": [],
   "source": [
    "df.info()"
   ]
  },
  {
   "cell_type": "code",
   "execution_count": null,
   "metadata": {},
   "outputs": [],
   "source": [
    "# 分类属性转为数值数据 onehot\n",
    "df_dummy = pd.get_dummies(df, columns=[\"month\", \"day\"], prefix_sep=\"__\")\n",
    "df_dummy.head(5) "
   ]
  },
  {
   "cell_type": "code",
   "execution_count": null,
   "metadata": {},
   "outputs": [],
   "source": [
    "# dataframe转为ndarray\n",
    "nparray = df_dummy.values\n",
    "print(type(nparray))\n",
    "nparray"
   ]
  },
  {
   "cell_type": "code",
   "execution_count": null,
   "metadata": {},
   "outputs": [],
   "source": [
    "# 数值属性的各种标准化或者压缩 sklearn.preprocessing\n",
    "\n",
    "# 连续数据分箱 - 连续数据离散化的一种方法\n",
    "self_define_bins = [0, 10, 20, 30, 40, 50, 60, 70, 80, 90, 100]\n",
    "df[\"FFMC_3_bin\"] = pd.cut(df[\"FFMC\"], bins=3)\n",
    "df[\"FFMC_self_define_bin\"] = pd.cut(df[\"FFMC\"], bins=self_define_bins)\n",
    "df[\"FFMC_label\"] = pd.cut(df[\"FFMC\"], bins=self_define_bins, labels=False)\n",
    "df.head(5)"
   ]
  },
  {
   "cell_type": "code",
   "execution_count": null,
   "metadata": {},
   "outputs": [],
   "source": [
    "# 字段的变化，创建一个新字段, 并且drop老的字段\n",
    "# 也可以对分类属性做自己的编码，一般也是one-hot编码。\n",
    "def reset_day(day):\n",
    "    if day == \"fri\" or day == \"sun\" or day == \"sat\":\n",
    "        return \"second\"\n",
    "    else: \n",
    "        return \"first\"\n",
    "\n",
    "df[\"part\"] = df[\"day\"].apply(reset_day)\n",
    "print(df.head(10))\n",
    "df.drop([\"day\"], axis=1, inplace=True)\n",
    "print(df.head(10))"
   ]
  }
 ],
 "metadata": {
  "kernelspec": {
   "display_name": "Python 3",
   "language": "python",
   "name": "python3"
  },
  "language_info": {
   "codemirror_mode": {
    "name": "ipython",
    "version": 3
   },
   "file_extension": ".py",
   "mimetype": "text/x-python",
   "name": "python",
   "nbconvert_exporter": "python",
   "pygments_lexer": "ipython3",
   "version": "3.7.4"
  }
 },
 "nbformat": 4,
 "nbformat_minor": 4
}
