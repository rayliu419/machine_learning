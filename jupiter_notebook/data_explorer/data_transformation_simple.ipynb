{
 "cells": [
  {
   "cell_type": "code",
   "execution_count": null,
   "metadata": {},
   "outputs": [],
   "source": [
    "\"\"\"\n",
    "pandas某些行的transformation\n",
    "由于机器学习模型只接受数值，所以要将不同的数据类型转为数值\n",
    "\n",
    "\"\"\"\n",
    "import pandas as pd\n",
    "import numpy as np\n",
    "import sys\n",
    "sys.path.append(\"../common/\")\n",
    "import forestfires_helper\n",
    "\n",
    "\n",
    "df = forestfires_helper.prepare_forest_file_raw_data_for_task()\n",
    "df.info()"
   ]
  },
  {
   "cell_type": "code",
   "execution_count": null,
   "metadata": {},
   "outputs": [],
   "source": [
    "# 分类属性转为数值数据 onehot\n",
    "df_dummy = pd.get_dummies(df, columns=[\"month\", \"day\"], prefix_sep=\"__\")\n",
    "df_dummy.head(5) "
   ]
  },
  {
   "cell_type": "code",
   "execution_count": null,
   "metadata": {},
   "outputs": [],
   "source": [
    "# dataframe转为ndarray\n",
    "nparray = df_dummy.values\n",
    "print(type(nparray))\n",
    "nparray"
   ]
  },
  {
   "cell_type": "code",
   "execution_count": null,
   "metadata": {},
   "outputs": [],
   "source": [
    "# 数值属性的各种标准化或者压缩 sklearn.preprocessing\n",
    "\n",
    "# 连续数据分箱 - 连续数据离散化的一种方法\n",
    "self_define_bins = [0, 10, 20, 30, 40, 50, 60, 70, 80, 90, 100]\n",
    "df[\"FFMC_3_bin\"] = pd.cut(df[\"FFMC\"], bins=3)\n",
    "df[\"FFMC_self_define_bin\"] = pd.cut(df[\"FFMC\"], bins=self_define_bins)\n",
    "df[\"FFMC_label\"] = pd.cut(df[\"FFMC\"], bins=self_define_bins, labels=False)\n",
    "df.head(5)"
   ]
  },
  {
   "cell_type": "code",
   "execution_count": null,
   "metadata": {},
   "outputs": [],
   "source": [
    "# 字段的变化，创建一个新字段, 并且drop老的字段\n",
    "# 也可以对分类属性做自己的编码，一般也是one-hot编码。\n",
    "def reset_day(day):\n",
    "    if day == \"fri\" or day == \"sun\" or day == \"sat\":\n",
    "        return \"second\"\n",
    "    else: \n",
    "        return \"first\"\n",
    "\n",
    "df[\"part\"] = df[\"day\"].apply(reset_day)\n",
    "print(df.head(10))\n",
    "df.drop([\"day\"], axis=1, inplace=True)\n",
    "print(df.head(10))"
   ]
  }
 ],
 "metadata": {
  "kernelspec": {
   "display_name": "Python 3",
   "language": "python",
   "name": "python3"
  },
  "language_info": {
   "codemirror_mode": {
    "name": "ipython",
    "version": 3
   },
   "file_extension": ".py",
   "mimetype": "text/x-python",
   "name": "python",
   "nbconvert_exporter": "python",
   "pygments_lexer": "ipython3",
   "version": "3.7.4"
  }
 },
 "nbformat": 4,
 "nbformat_minor": 4
}
