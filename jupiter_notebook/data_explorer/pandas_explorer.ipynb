{
 "cells": [
  {
   "cell_type": "code",
   "execution_count": null,
   "metadata": {},
   "outputs": [],
   "source": [
    "\"\"\"\n",
    "更特性化的看数据\n",
    "pandas可以类似像sql一样来各种观察数据\n",
    "\"\"\"\n",
    "\n",
    "import pandas as pd\n",
    "import sys\n",
    "import glob\n",
    "\n",
    "def read_dir_txt_to_df(dir):\n",
    "    files = glob.glob(dir)\n",
    "    df = pd.concat([pd.read_csv(f, sep=\",\") for f in files], ignore_index = True)\n",
    "    return df\n",
    "\n",
    "def print_count_percentage(df):\n",
    "    df_with_count_percentage = pd.concat([df.value_counts(), df.value_counts(normalize=True) * 100], axis=1, keys=(\"counts\", \"percentage\"))\n",
    "    return df_with_count_percentage\n",
    "\n",
    "df = read_dir_txt_to_df(\"./input/*.csv\")\n",
    "print(\"\\n\")\n",
    "df.head(5)\n",
    "print(df.info)"
   ]
  },
  {
   "cell_type": "code",
   "execution_count": null,
   "metadata": {},
   "outputs": [],
   "source": [
    "# 列名\n",
    "print(df.columns)\n",
    "\n",
    "# 行操作\n",
    "df_row = df[0:5]\n",
    "print(df_row)\n",
    "\n",
    "# 列操作\n",
    "print(df_row[[\"month\", \"day\"]])\n",
    "\n",
    "# 统计某一列的分布 \n",
    "print_count_percentage(df[\"month\"])"
   ]
  },
  {
   "cell_type": "code",
   "execution_count": null,
   "metadata": {},
   "outputs": [],
   "source": [
    "# groupby返回一个groupby对象，后面必须要选取某列并做聚合操作，否则打印不出来。\n",
    "df_group_by = df.groupby([\"month\", \"day\"])[\"wind\"].value_counts()\n",
    "print(df_group_by)"
   ]
  },
  {
   "cell_type": "code",
   "execution_count": null,
   "metadata": {},
   "outputs": [],
   "source": [
    "# lamdda怎么用于过滤？\n",
    "# df_filter = df.filter(lambda row: row[0] == 7)\n",
    "# print(df_filter)"
   ]
  },
  {
   "cell_type": "code",
   "execution_count": null,
   "metadata": {},
   "outputs": [],
   "source": []
  }
 ],
 "metadata": {
  "kernelspec": {
   "display_name": "Python 3",
   "language": "python",
   "name": "python3"
  },
  "language_info": {
   "codemirror_mode": {
    "name": "ipython",
    "version": 3
   },
   "file_extension": ".py",
   "mimetype": "text/x-python",
   "name": "python",
   "nbconvert_exporter": "python",
   "pygments_lexer": "ipython3",
   "version": "3.7.4"
  }
 },
 "nbformat": 4,
 "nbformat_minor": 4
}
