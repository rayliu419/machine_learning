{
 "cells": [
  {
   "cell_type": "code",
   "execution_count": null,
   "metadata": {},
   "outputs": [],
   "source": [
    "\"\"\"\n",
    "pipeline的方式来转，这个更加规整，一般应该有这种方式。\n",
    "定义一系列的transformer，然后将数据集一次性传进去，最后直接获得一个dataframe，然后转为ndarry作为模型输入\n",
    "对于dl的模型，最后的分类器可能不放到pipeline里。\n",
    "对于sklearn的模型，可以放到里面一起去。\n",
    "\"\"\"\n",
    "import pandas as pd\n",
    "import numpy as np\n",
    "\n",
    "\n",
    "# 构建测试的dataframe来测试流水线方法\n",
    "df2 = pd.DataFrame({\n",
    "    \"city\": [\"tokyo\", \"beijing\", \"london\", \"seattle\", \"san fransciso\", \"newyork\"],\n",
    "    \"boolean\": [\"yes\", \"no\", \"no\", \"no\", \"no\", \"yes\"],\n",
    "    \"ordinal\": [\"somewhat like\", \"like\", \"somewhat like\", \"like\", \"somewhat like\", \"dislike\"],\n",
    "    \"quantitative\": [1, 11, -.5, 10, 8.3, 20],\n",
    "    \"gdp\": [1122, 139, 1500, 1234, 555, 99999],\n",
    "    \"day\": [1, 2, 3, 4, 5, 6]\n",
    "}\n",
    ")\n",
    "df2\n",
    "df2_copy = df2.copy()"
   ]
  },
  {
   "cell_type": "code",
   "execution_count": null,
   "metadata": {},
   "outputs": [],
   "source": [
    "# 分类属性处理\n",
    "df2 = pd.get_dummies(df2, columns=[\"city\", \"boolean\"], prefix_sep=\"__\")\n",
    "df2"
   ]
  },
  {
   "cell_type": "code",
   "execution_count": null,
   "metadata": {},
   "outputs": [],
   "source": [
    "# 定序属性 - 可以认为某些列的值比另外更好，实际运用中，是不是one hot编码也可以，尤其是DL\n",
    "ordering = [\"dislike\", \"somewhat like\", \"like\"]\n",
    "df2[\"ordinal\"] = df2[\"ordinal\"].map(lambda x: ordering.index(x))\n",
    "df2"
   ]
  },
  {
   "cell_type": "code",
   "execution_count": null,
   "metadata": {},
   "outputs": [],
   "source": [
    "# 数据分箱\n",
    "df2[\"quantitative\"] = pd.cut(df2[\"quantitative\"], bins=3, labels=False)\n",
    "df2"
   ]
  },
  {
   "cell_type": "code",
   "execution_count": null,
   "metadata": {},
   "outputs": [],
   "source": [
    "df2_copy"
   ]
  },
  {
   "cell_type": "code",
   "execution_count": null,
   "metadata": {},
   "outputs": [],
   "source": [
    "# pipeline方式来转换，更好的组织 \n",
    "# 实际生产中应该采取这种方式\n",
    "from sklearn.base import TransformerMixin\n",
    "from sklearn.pipeline import Pipeline\n",
    "from sklearn.preprocessing import StandardScaler\n",
    "\n",
    "class MyDummy(TransformerMixin):\n",
    "    def __init__(self, cols=None):\n",
    "        self.cols = cols\n",
    "\n",
    "    def transform(self, X):\n",
    "        temp = X.copy()\n",
    "        return pd.get_dummies(X, columns=self.cols)\n",
    "    \n",
    "    def fit(self, *_):\n",
    "        return self\n",
    "    \n",
    "class MyOrdinal(TransformerMixin):\n",
    "    def __init__(self, ordering=None):\n",
    "        self.ordering = ordering\n",
    "    \n",
    "    def transform(self, X):\n",
    "        temp = X.copy()\n",
    "        temp[\"ordinal\"] = X[\"ordinal\"].map(lambda x: self.ordering.index(x))\n",
    "        return temp\n",
    "    \n",
    "    def fit(self, *_):\n",
    "        return self\n",
    "    \n",
    "class MyCut(TransformerMixin):\n",
    "#     def __init__(self):\n",
    "    \n",
    "    def transform(self, X):\n",
    "        temp = X.copy()\n",
    "        temp[\"quantitative\"] = pd.cut(X[\"quantitative\"], bins=3, labels=False)\n",
    "        return temp\n",
    "    \n",
    "    def fit(self, *_):\n",
    "        return self\n",
    "\n",
    "class MyStandard(TransformerMixin):\n",
    "    \"\"\"\n",
    "    这个方式感觉有点stupid，fit_transform返回的是一个ndarray，还需要转回dataframe\n",
    "    \"\"\"\n",
    "    def transform(self, X):\n",
    "        standard_scaler = StandardScaler()\n",
    "        temp = X[\"gdp\"].copy()\n",
    "        temp = temp.to_frame()\n",
    "        temp_standard = standard_scaler.fit_transform(temp)\n",
    "        temp_standard_df = pd.DataFrame(data=temp_standard, columns=[\"gdp\"])\n",
    "        X[\"gdp\"] = temp_standard_df[\"gdp\"]\n",
    "        return X\n",
    "    \n",
    "    def fit(self, *_):\n",
    "        return self\n",
    "    \n",
    "class MyDayTransfromer(TransformerMixin):\n",
    "    \"\"\"\n",
    "    \"\"\"\n",
    "    def transform(self, X):\n",
    "        X[\"day\"] = X[\"day\"].apply(self.reset_day)\n",
    "        return X\n",
    "    \n",
    "    def fit(self, *_):\n",
    "        return self\n",
    "    \n",
    "    def reset_day(self, day):\n",
    "        if day == 1 or day == 2 or day == 3:\n",
    "            return \"first\"\n",
    "        else: \n",
    "            return \"second\"\n",
    "    \n",
    "\n",
    "my_dummy = MyDummy(cols=[\"city\", \"boolean\"])\n",
    "my_ordinal = MyOrdinal(ordering=ordering)\n",
    "my_cut = MyCut()\n",
    "my_standard = MyStandard()\n",
    "my_day_transformer = MyDayTransfromer()\n",
    "\n",
    "pipe = Pipeline([(\"dummify\", my_dummy), (\"ordinal\", my_ordinal), (\"cut\", my_cut), \n",
    "                 (\"standard\", my_standard), (\"day_transformer\", my_day_transformer)])\n",
    "df2_copy"
   ]
  },
  {
   "cell_type": "code",
   "execution_count": null,
   "metadata": {},
   "outputs": [],
   "source": [
    "df3 = pipe.fit_transform(df2_copy)\n",
    "df3\n",
    "# df2和df3是一样的结果 "
   ]
  },
  {
   "cell_type": "code",
   "execution_count": null,
   "metadata": {},
   "outputs": [],
   "source": []
  }
 ],
 "metadata": {
  "kernelspec": {
   "display_name": "Python 3",
   "language": "python",
   "name": "python3"
  },
  "language_info": {
   "codemirror_mode": {
    "name": "ipython",
    "version": 3
   },
   "file_extension": ".py",
   "mimetype": "text/x-python",
   "name": "python",
   "nbconvert_exporter": "python",
   "pygments_lexer": "ipython3",
   "version": "3.7.4"
  }
 },
 "nbformat": 4,
 "nbformat_minor": 4
}
