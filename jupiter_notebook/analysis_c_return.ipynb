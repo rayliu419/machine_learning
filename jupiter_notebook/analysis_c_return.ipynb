{
 "cells": [
  {
   "cell_type": "code",
   "execution_count": null,
   "metadata": {},
   "outputs": [],
   "source": [
    "import pandas as pd\n",
    "import sys\n",
    "!{sys.executable} -m pip install pandas-profiling\n",
    "import glob\n",
    "\n",
    "pd.set_option('display.max_rows', 500)\n",
    "pd.set_option('display.max_columns', 500)\n",
    "pd.set_option('display.max_colwidth', -1) # show full column text.\n",
    "\n",
    "def print_count_percentage(df):\n",
    "    df_with_count_percentage = pd.concat([df.value_counts(), df.value_counts(normalize=True) * 100], axis=1, keys=(\"counts\", \"percentage\"))\n",
    "    return df_with_count_percentage\n",
    "\n",
    "def read_dir_txt_to_df(dir):\n",
    "    files = glob.glob(dir)\n",
    "    files\n",
    "    df = pd.concat([pd.read_csv(f, sep=\"\\t\") for f in files], ignore_index = True)\n",
    "    return df\n",
    "\n",
    "df = read_dir_txt_to_df(\"/Users/luru/Downloads/1460805692/*.txt\")"
   ]
  },
  {
   "cell_type": "code",
   "execution_count": null,
   "metadata": {},
   "outputs": [],
   "source": [
    "# 这是一个用来做数据探索的库，能够较好的显示一些常用的信息。\n",
    "pfr = pandas_profiling.ProfileReport(df)\n",
    "pfr.to_file(\"./c-return.html\")"
   ]
  },
  {
   "cell_type": "code",
   "execution_count": null,
   "metadata": {},
   "outputs": [],
   "source": [
    "df_comments_counts = print_count_percentage(df[\"customer-comments\"])\n",
    "df_comments_counts"
   ]
  },
  {
   "cell_type": "code",
   "execution_count": null,
   "metadata": {},
   "outputs": [],
   "source": [
    "df_reason_counts = print_count_percentage(df[\"reason\"])\n",
    "df_reason_counts"
   ]
  },
  {
   "cell_type": "code",
   "execution_count": null,
   "metadata": {},
   "outputs": [],
   "source": [
    "df_asin = df.groupby(\"asin\")\n",
    "df_asin_value_counts = df_asin[\"reason\"].value_counts()\n",
    "df_asin_value_counts\n",
    "df_asin_value_counts.to_excel(\"./output_data/before.xlsx\")"
   ]
  },
  {
   "cell_type": "code",
   "execution_count": null,
   "metadata": {},
   "outputs": [],
   "source": [
    "# 注意filter以后又变成了dataframe，要重新groupby\n",
    "df_filter = df.groupby(\"asin\").filter(lambda x: len(x) > 1)\n",
    "df_asin_filter = df_filter.groupby(\"asin\")\n",
    "# groupby以后是一个DataframeGroupBy对象，对其某列做value_counts()会把相应的key聚合在一起，这是一个常用的功能\n",
    "df_asin_filter_value_counts = df_asin_filter[\"reason\"].value_counts()\n",
    "\n",
    "df_asin_filter_value_counts.to_excel(\"./output_data/after.xlsx\")"
   ]
  },
  {
   "cell_type": "code",
   "execution_count": null,
   "metadata": {},
   "outputs": [],
   "source": []
  }
 ],
 "metadata": {
  "kernelspec": {
   "display_name": "Python 3",
   "language": "python",
   "name": "python3"
  },
  "language_info": {
   "codemirror_mode": {
    "name": "ipython",
    "version": 3
   },
   "file_extension": ".py",
   "mimetype": "text/x-python",
   "name": "python",
   "nbconvert_exporter": "python",
   "pygments_lexer": "ipython3",
   "version": "3.7.4"
  }
 },
 "nbformat": 4,
 "nbformat_minor": 4
}
