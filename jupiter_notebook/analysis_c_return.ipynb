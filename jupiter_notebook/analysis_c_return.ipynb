{
 "cells": [
  {
   "cell_type": "code",
   "execution_count": null,
   "metadata": {},
   "outputs": [],
   "source": [
    "import pandas as pd\n",
    "import glob\n",
    "\n",
    "pd.set_option('display.max_rows', 500)\n",
    "pd.set_option('display.max_columns', 500)\n",
    "pd.set_option('display.max_colwidth', -1) # show full column text.\n",
    "\n",
    "def print_count_percentage(df):\n",
    "    df_with_count_percentage = pd.concat([df.value_counts(), df.value_counts(normalize=True) * 100], axis=1, keys=(\"counts\", \"percentage\"))\n",
    "    return df_with_count_percentage\n",
    "\n",
    "def read_dir_txt_to_df(dir):\n",
    "    files = glob.glob(dir)\n",
    "    print(files)\n",
    "    df = pd.concat([pd.read_csv(f, sep=\"\\t\") for f in files], ignore_index = True)\n",
    "    return df\n",
    "\n",
    "df = read_dir_txt_to_df(\"/Users/ray/Downloads/1460805692/*.txt\")"
   ]
  },
  {
   "cell_type": "code",
   "execution_count": null,
   "metadata": {},
   "outputs": [],
   "source": [
    "df.info()"
   ]
  },
  {
   "cell_type": "code",
   "execution_count": null,
   "metadata": {},
   "outputs": [],
   "source": [
    "df_comments_counts = print_count_percentage(df[\"customer-comments\"])"
   ]
  },
  {
   "cell_type": "code",
   "execution_count": null,
   "metadata": {},
   "outputs": [],
   "source": [
    "df2 = df[\"customer-comments\"].dropna()\n",
    "df2.shape"
   ]
  },
  {
   "cell_type": "code",
   "execution_count": null,
   "metadata": {},
   "outputs": [],
   "source": [
    "df[\"reason\"].isna().sum()"
   ]
  },
  {
   "cell_type": "code",
   "execution_count": null,
   "metadata": {},
   "outputs": [],
   "source": [
    "df_reason_counts = print_count_percentage(df[\"reason\"])\n",
    "df_reason_counts"
   ]
  },
  {
   "cell_type": "code",
   "execution_count": 60,
   "metadata": {},
   "outputs": [
    {
     "name": "stdout",
     "output_type": "stream",
     "text": [
      "<class 'pandas.core.series.Series'>\n"
     ]
    }
   ],
   "source": [
    "df_asin = df.groupby(\"asin\")\n",
    "df_asin[\"reason\"].value_counts()"
   ]
  },
  {
   "cell_type": "code",
   "execution_count": 62,
   "metadata": {},
   "outputs": [
    {
     "data": {
      "text/plain": [
       "APPAREL_TOO_SMALL            404\n",
       "APPAREL_TOO_LARGE            215\n",
       "APPAREL_STYLE                175\n",
       "UNWANTED_ITEM                53 \n",
       "NO_REASON_GIVEN              44 \n",
       "MISORDERED                   37 \n",
       "DEFECTIVE                    20 \n",
       "UNDELIVERABLE_UNKNOWN        13 \n",
       "QUALITY_UNACCEPTABLE         12 \n",
       "MISSED_ESTIMATED_DELIVERY    7  \n",
       "NOT_AS_DESCRIBED             5  \n",
       "SWITCHEROO                   5  \n",
       "NEVER_ARRIVED                4  \n",
       "UNDELIVERABLE_REFUSED        4  \n",
       "ORDERED_WRONG_ITEM           4  \n",
       "DAMAGED_BY_CARRIER           3  \n",
       "Name: reason, dtype: int64"
      ]
     },
     "execution_count": 62,
     "metadata": {},
     "output_type": "execute_result"
    }
   ],
   "source": [
    "df_asin_more_than_2 = df.groupby(\"asin\").filter(lambda x: len(x) > 1)\n",
    "df_asin_more_than_2[\"reason\"].value_counts()\n",
    "df_asin_more_than_2\n",
    "#df_asin[\"reason\"].value_counts()\n",
    "# df_asin_more_than_2[\"reason\"].value_counts()"
   ]
  },
  {
   "cell_type": "code",
   "execution_count": null,
   "metadata": {},
   "outputs": [],
   "source": []
  }
 ],
 "metadata": {
  "kernelspec": {
   "display_name": "Python 3",
   "language": "python",
   "name": "python3"
  },
  "language_info": {
   "codemirror_mode": {
    "name": "ipython",
    "version": 3
   },
   "file_extension": ".py",
   "mimetype": "text/x-python",
   "name": "python",
   "nbconvert_exporter": "python",
   "pygments_lexer": "ipython3",
   "version": "3.7.4"
  }
 },
 "nbformat": 4,
 "nbformat_minor": 4
}
