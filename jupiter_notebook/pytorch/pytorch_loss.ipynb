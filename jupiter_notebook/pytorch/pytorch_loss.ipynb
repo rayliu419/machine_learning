{
 "cells": [
  {
   "cell_type": "code",
   "execution_count": 1,
   "metadata": {},
   "outputs": [],
   "source": [
    "import torch"
   ]
  },
  {
   "cell_type": "code",
   "execution_count": 2,
   "metadata": {},
   "outputs": [
    {
     "name": "stdout",
     "output_type": "stream",
     "text": [
      "tensor(0.7568)\n"
     ]
    }
   ],
   "source": [
    "\"\"\"\n",
    "演示批量的BCELoss()。\n",
    "网络的最后输出是sigmoid()函数，用于两分类问题。\n",
    "\"\"\"\n",
    "tensor1 = torch.Tensor([\n",
    "    [0.4803],\n",
    "    [0.9],\n",
    "    [0.4906],\n",
    "    [0.4804],\n",
    "    [0.4925],\n",
    "    [0.4789],\n",
    "    [0.4760],\n",
    "    [0.4803],\n",
    "    [0.4786],\n",
    "    [0.4727],\n",
    "    [0.4827],\n",
    "    [0.4727],\n",
    "    [0.4789],\n",
    "    [0.4749],\n",
    "    [0.4778],\n",
    "    [0.4811]])\n",
    "\n",
    "tensor2 = torch.Tensor([0., 0., 0., 0., 0., 0., 0., 0., 0., 0., 0., 0., 0., 0., 0., 0.])\n",
    "tensor2_reshape = tensor2.view((16, 1))\n",
    "loss_function = torch.nn.BCELoss()\n",
    "loss = loss_function(tensor1, tensor2_reshape)\n",
    "print(loss)"
   ]
  },
  {
   "cell_type": "code",
   "execution_count": null,
   "metadata": {},
   "outputs": [],
   "source": [
    "# CrossEntropyLoss的用法\n",
    "loss = nn.CrossEntropyLoss()\n",
    "input = torch.randn(8, 2, requires_grad=True)\n",
    "target = torch.empty(8, dtype=torch.long).random_(2)\n",
    "print(input)\n",
    "print(target)\n",
    "output = loss(input, target)\n",
    "print(output)"
   ]
  },
  {
   "cell_type": "code",
   "execution_count": null,
   "metadata": {},
   "outputs": [],
   "source": [
    "z = torch.Tensor([-2.8961, -2.9042, -2.9938, -2.9543, -2.8207, -2.9718, -2.8264, -2.8576,\n",
    "        -2.8961, -2.7781, -2.8565, -2.9186, -2.9661, -2.7642, -2.9291, -2.8690,\n",
    "        -2.9487, -2.9125])\n",
    "z = z.unsqueeze(0)\n",
    "loss_func = nn.NLLLoss()\n",
    "target = torch.Tensor([2]).long()\n",
    "loss = loss_func(z, target)\n",
    "print(loss)"
   ]
  }
 ],
 "metadata": {
  "kernelspec": {
   "display_name": "Python 3",
   "language": "python",
   "name": "python3"
  },
  "language_info": {
   "codemirror_mode": {
    "name": "ipython",
    "version": 3
   },
   "file_extension": ".py",
   "mimetype": "text/x-python",
   "name": "python",
   "nbconvert_exporter": "python",
   "pygments_lexer": "ipython3",
   "version": "3.7.4"
  }
 },
 "nbformat": 4,
 "nbformat_minor": 4
}
