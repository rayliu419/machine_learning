{
 "cells": [
  {
   "cell_type": "code",
   "execution_count": 9,
   "metadata": {},
   "outputs": [],
   "source": [
    "import sys\n",
    "sys.path.append(\"..\")\n",
    "from common.data_loader.load_movie_review import *\n",
    "from common.lng_processor.eng_process import *\n",
    "from common.utils.sequence_utils import *\n",
    "from common.utils.type_cast_utils import *\n",
    "import torch\n",
    "import numpy as np"
   ]
  },
  {
   "cell_type": "code",
   "execution_count": null,
   "metadata": {},
   "outputs": [],
   "source": [
    "print(\"loading and cleaning data\")\n",
    "df = load_movie_review()\n",
    "df['text_remove_punctuations'] = \\\n",
    "    df['text'].apply(lambda x: remove_punctuations_array(x))\n",
    "df.info()\n",
    "# print(df.loc[0:0, ['text']])\n",
    "# print(df.loc[0:0, ['text_remove_punctuations']])"
   ]
  },
  {
   "cell_type": "code",
   "execution_count": null,
   "metadata": {},
   "outputs": [],
   "source": [
    "print(\"encoding\")\n",
    "word_dict = build_word_to_int_dict(df['text_remove_punctuations'])\n",
    "print(word_dict.total_token)\n",
    "print(word_dict.total_uniq_word)\n",
    "\n",
    "df['encode'] = df['text_remove_punctuations'].apply(lambda x: word_dict.encode_tokenized_sentence(x))\n",
    "df['label_encode'] = df['label'].apply(lambda x: 0 if x == 'neg' else 1)\n",
    "\n",
    "print(df.loc[0:0, ['text_remove_punctuations']])\n",
    "print(df.loc[0:0, ['encode']])\n",
    "df.drop(columns=['text_remove_punctuations', 'text', 'label'], inplace=True)\n",
    "\n",
    "print(df.loc[0:1])"
   ]
  },
  {
   "cell_type": "code",
   "execution_count": null,
   "metadata": {},
   "outputs": [],
   "source": [
    "print(\"partition samples\")\n",
    "total_sample, _ = df.shape\n",
    "batch_size = 16\n",
    "partition_num = total_sample / batch_size\n",
    "\n",
    "sub_df = np.array_split(df, partition_num)\n",
    "print(len(sub_df))"
   ]
  },
  {
   "cell_type": "code",
   "execution_count": null,
   "metadata": {},
   "outputs": [],
   "source": [
    "for batch_df in sub_df:\n",
    "    batch_df['sentence_len'] = batch_df['encode'].apply(lambda x: len(x))\n",
    "    batch_df.sort_values('sentence_len', ascending=False, inplace=True)\n",
    "    X = series_to_list(batch_df['encode'])\n",
    "    Y = series_to_list(batch_df['label_encode'])\n",
    "    X_length = get_length_of_list_of_list(X)"
   ]
  }
 ],
 "metadata": {
  "kernelspec": {
   "display_name": "Python 3",
   "language": "python",
   "name": "python3"
  },
  "language_info": {
   "codemirror_mode": {
    "name": "ipython",
    "version": 3
   },
   "file_extension": ".py",
   "mimetype": "text/x-python",
   "name": "python",
   "nbconvert_exporter": "python",
   "pygments_lexer": "ipython3",
   "version": "3.7.6"
  }
 },
 "nbformat": 4,
 "nbformat_minor": 4
}
