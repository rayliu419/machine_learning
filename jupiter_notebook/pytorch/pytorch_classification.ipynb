{
 "cells": [
  {
   "cell_type": "code",
   "execution_count": null,
   "metadata": {},
   "outputs": [],
   "source": [
    "import torch\n",
    "import torch.nn.functional as F\n",
    "import matplotlib.pyplot as plt\n",
    "\n",
    "# torch.manual_seed(1)    # reproducible\n",
    "\n",
    "# 生成一些两类假数据\n",
    "n_data = torch.ones(100, 2)\n",
    "# normal 这个函数应该初始化时经常用到\n",
    "x0 = torch.normal(2*n_data, 1)      # class0 x data (tensor), shape=(100, 2)\n",
    "y0 = torch.zeros(100)               # class0 y data (tensor), shape=(100, 1)\n",
    "x1 = torch.normal(-2*n_data, 1)     # class1 x data (tensor), shape=(100, 2)\n",
    "y1 = torch.ones(100)                # class1 y data (tensor), shape=(100, 1)\n",
    "x = torch.cat((x0, x1), 0).type(torch.FloatTensor)  # shape (200, 2) FloatTensor = 32-bit floating\n",
    "y = torch.cat((y0, y1), 0).type(torch.LongTensor)    # shape (200,) LongTensor = 64-bit integer\n",
    "\n",
    "# print(n_data)\n",
    "# print(x0)\n",
    "# print(x1)\n",
    "plt.scatter(x.data.numpy()[:, 0], x.data.numpy()[:, 1], c=y.data.numpy(), s=100, lw=0, cmap='RdYlGn')\n",
    "plt.show()"
   ]
  },
  {
   "cell_type": "code",
   "execution_count": null,
   "metadata": {},
   "outputs": [],
   "source": [
    "\n",
    "class Net(torch.nn.Module):\n",
    "    def __init__(self, n_feature, n_hidden, n_output):\n",
    "        super(Net, self).__init__()\n",
    "        self.hidden = torch.nn.Linear(n_feature, n_hidden)   # hidden layer\n",
    "        self.out = torch.nn.Linear(n_hidden, n_output)   # output layer\n",
    "\n",
    "    def forward(self, x):\n",
    "        \"\"\"\n",
    "        输出两个浮点数。\n",
    "        这里没有在网络中做softmax，而是出去以后做的。\n",
    "        \"\"\"\n",
    "        x = F.relu(self.hidden(x))     \n",
    "        x = self.out(x)\n",
    "        return x\n",
    "\n",
    "net = Net(n_feature=2, n_hidden=10, n_output=2)     # define the network\n",
    "print(net) \n",
    "\n",
    "optimizer = torch.optim.SGD(net.parameters(), lr=0.02)\n",
    "# 分类问题都使用CrossEntropyLoss。\n",
    "loss_func = torch.nn.CrossEntropyLoss()  # the target label is NOT an one-hotted\n",
    "\n",
    "plt.ion()\n",
    "\n",
    "for t in range(100):\n",
    "    out = net(x)\n",
    "    loss = loss_func(out, y)     # must be (1. nn output, 2. target), the target label is NOT one-hotted\n",
    "\n",
    "    optimizer.zero_grad()   # clear gradients for next train\n",
    "    loss.backward()         # backpropagation, compute gradients\n",
    "    optimizer.step()        # apply gradients\n",
    "\n",
    "    if t % 2 == 0:\n",
    "        plt.cla()\n",
    "        prediction = torch.max(out, 1)[1]\n",
    "        pred_y = prediction.data.numpy()\n",
    "        target_y = y.data.numpy()\n",
    "        plt.scatter(x.data.numpy()[:, 0], x.data.numpy()[:, 1], c=pred_y, s=100, lw=0, cmap='RdYlGn')\n",
    "        accuracy = float((pred_y == target_y).astype(int).sum()) / float(target_y.size)\n",
    "        plt.text(1.5, -4, 'Accuracy=%.2f' % accuracy, fontdict={'size': 20, 'color':  'red'})\n",
    "        plt.pause(0.1)\n",
    "\n",
    "plt.ioff()\n",
    "plt.show()"
   ]
  }
 ],
 "metadata": {
  "kernelspec": {
   "display_name": "Python 3",
   "language": "python",
   "name": "python3"
  },
  "language_info": {
   "codemirror_mode": {
    "name": "ipython",
    "version": 3
   },
   "file_extension": ".py",
   "mimetype": "text/x-python",
   "name": "python",
   "nbconvert_exporter": "python",
   "pygments_lexer": "ipython3",
   "version": "3.7.4"
  }
 },
 "nbformat": 4,
 "nbformat_minor": 4
}
