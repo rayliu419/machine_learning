{
 "cells": [
  {
   "cell_type": "code",
   "execution_count": null,
   "metadata": {},
   "outputs": [],
   "source": [
    "import torch\n",
    "import torch.nn as nn"
   ]
  },
  {
   "cell_type": "code",
   "execution_count": null,
   "metadata": {},
   "outputs": [],
   "source": [
    "\"\"\"\n",
    "NLP中的输入总是有点混，维度是怎么来的，经过embedding的一个句子是：\n",
    "[[0.1, 0.2, 0.3], [0.55, 0.44, 0.44]]\n",
    "多个句子是:\n",
    "[[[0.1, 0.2, 0.3], [0.55, 0.44, 0.44]], \n",
    "[[0.1, 0.2, 0.3], [0.55, 0.44, 0.44]]]\n",
    "\"\"\"\n",
    "input = torch.randn(6, 3, 10)\n",
    "\"\"\"\n",
    "data.shape = [batch_size, sequence_length, vocab_dim]还是[sequence_length, batch_size, vocab_dim]\n",
    "6是sample数\n",
    "3是每个句子的长度\n",
    "10是每个单词的embedding维度\n",
    "\"\"\"\n",
    "print(input)"
   ]
  },
  {
   "cell_type": "code",
   "execution_count": null,
   "metadata": {},
   "outputs": [],
   "source": [
    "\"\"\"\n",
    "这些构造都很有意思，感觉是先\n",
    "rnn = nn.RNNCell(10, 20) - 构造结构\n",
    "hx = rnn(input[i], hx) - 真正的计算\n",
    "\"\"\"\n",
    "rnn = nn.RNNCell(10, 20)\n",
    "hx = torch.randn(3, 20)\n",
    "output = []\n",
    "for i in range(6):\n",
    "    hx = rnn(input[i], hx)\n",
    "    output.append(hx)\n",
    "print(output)"
   ]
  },
  {
   "cell_type": "code",
   "execution_count": null,
   "metadata": {},
   "outputs": [],
   "source": []
  }
 ],
 "metadata": {
  "kernelspec": {
   "display_name": "Python 3",
   "language": "python",
   "name": "python3"
  },
  "language_info": {
   "codemirror_mode": {
    "name": "ipython",
    "version": 3
   },
   "file_extension": ".py",
   "mimetype": "text/x-python",
   "name": "python",
   "nbconvert_exporter": "python",
   "pygments_lexer": "ipython3",
   "version": "3.7.4"
  }
 },
 "nbformat": 4,
 "nbformat_minor": 4
}
