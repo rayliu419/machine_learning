{
 "cells": [
  {
   "cell_type": "code",
   "execution_count": null,
   "metadata": {},
   "outputs": [],
   "source": [
    "import torch\n",
    "import torch.nn as nn"
   ]
  },
  {
   "cell_type": "code",
   "execution_count": null,
   "metadata": {},
   "outputs": [],
   "source": [
    "\"\"\"\n",
    "view()函数经常使用用来调整输入之类的。\n",
    "另外，就想view()暗示的，下游的数据是共享的。改变x，就会改变y和z。\n",
    "\"\"\"\n",
    "x = torch.randn(4, 4)\n",
    "print(x)\n",
    "y = x.view(16)\n",
    "print(y)\n",
    "\"\"\"\n",
    "the size -1 表示本维度从其他维度推断\n",
    "\"\"\"\n",
    "z = x.view(-1, 8) \n",
    "print(z)"
   ]
  },
  {
   "cell_type": "code",
   "execution_count": null,
   "metadata": {},
   "outputs": [],
   "source": [
    "a = torch.ones([4, 3])\n",
    "print(a)\n",
    "b = torch.zeros([4, 3])\n",
    "print(b)"
   ]
  },
  {
   "cell_type": "code",
   "execution_count": null,
   "metadata": {},
   "outputs": [],
   "source": [
    "\"\"\"\n",
    "Tensor经常用的操作\n",
    "exp - 求exp, 可以输入二维数组\n",
    "sum - 返回标量，不管输入的是几维\n",
    "/ - 元素除\n",
    "\"\"\"\n",
    "c = torch.Tensor([[-1, 1, 2], [2, 2, 4]])\n",
    "c_exp = c.exp()\n",
    "print(c_exp)\n",
    "c_sum = c.sum()\n",
    "print(c_sum)\n",
    "c_divide = c / c_sum\n",
    "print(c_divide)"
   ]
  },
  {
   "cell_type": "code",
   "execution_count": null,
   "metadata": {},
   "outputs": [],
   "source": [
    "\"\"\"\n",
    "Tensor常用函数\n",
    "Softmax = exp{xi} / sum(exp{x1~xn})\n",
    "\"\"\"\n",
    "softmax_func = nn.Softmax(dim = 1)\n",
    "c_softmax = softmax_func(c)\n",
    "print(c_softmax)\n",
    "\n",
    "x_input = torch.randn(1, 5)\n",
    "print('x_input:\\n',x_input)\n",
    "y_target = torch.tensor([1])\n",
    "print('y_target\\n',y_target)\n",
    "crossentropyloss = nn.CrossEntropyLoss()\n",
    "crossentropyloss_output = crossentropyloss(x_input, y_target)\n",
    "print(crossentropyloss_output)"
   ]
  },
  {
   "cell_type": "code",
   "execution_count": 27,
   "metadata": {},
   "outputs": [
    {
     "name": "stdout",
     "output_type": "stream",
     "text": [
      "tensor([[ 0.6606,  0.6161, -2.2126,  0.7239, -0.8800, -0.5093, -0.2204, -2.6573,\n",
      "         -0.1996,  0.5197],\n",
      "        [ 0.0089,  0.8361, -0.5583,  2.9509, -0.3524,  0.7096,  0.5880,  1.8533,\n",
      "         -1.0699,  0.2808],\n",
      "        [-1.1662, -0.5931, -1.8854, -0.0228, -1.8701, -0.6706,  0.3164,  2.0999,\n",
      "         -1.0327,  0.3815],\n",
      "        [ 1.1616,  0.4180, -0.2799, -0.3442, -0.6191, -0.8332, -0.0309, -0.5014,\n",
      "          0.2701, -0.1007],\n",
      "        [-0.3910, -0.2104,  0.5259,  0.5686,  0.1873, -0.5559,  0.7013, -0.6480,\n",
      "          0.4182, -1.6324],\n",
      "        [ 0.7926,  0.2358, -0.4525,  0.4091,  0.7298, -0.1931,  0.2297,  3.1296,\n",
      "          0.6238,  0.1907],\n",
      "        [ 1.8421, -0.7676,  0.5441,  0.7879,  1.9754,  0.9419, -0.1103,  0.6144,\n",
      "         -0.1063,  1.5264],\n",
      "        [-1.0438, -0.3680,  1.1349,  0.2266,  0.8170, -2.2181, -0.2638,  0.2709,\n",
      "          0.2737, -0.1156],\n",
      "        [-0.8316, -0.1483, -0.0369, -1.1189,  1.6014, -1.2266,  0.1530,  0.5439,\n",
      "         -2.1138,  1.3250],\n",
      "        [-1.8302, -0.4628,  1.0123, -0.2863, -1.4063,  0.3080, -0.2659, -0.8401,\n",
      "          0.5390,  0.1896]])\n",
      "tensor([[ 6.1743e-02, -1.0073e+00,  1.0510e+00,  1.2317e+00,  1.2813e+00,\n",
      "         -1.4629e-02, -8.0327e-02,  3.1851e-01, -3.4488e-01, -3.0939e-02],\n",
      "        [-1.4660e+00, -1.2064e+00, -1.6230e+00,  1.1366e+00,  3.0775e-01,\n",
      "          3.0080e-01, -7.6186e-01, -2.9526e-01,  1.1635e+00,  9.7006e-01],\n",
      "        [-1.1076e+00,  9.1876e-01,  1.0292e+00, -1.1438e+00, -1.0916e+00,\n",
      "          2.2875e+00, -1.8090e-01,  1.1773e+00, -5.5097e-01, -9.3823e-01],\n",
      "        [-1.3708e+00,  2.4517e-01, -1.4169e-01, -7.6982e-01, -4.1300e-01,\n",
      "         -3.2435e-01,  1.5072e+00, -6.2634e-01, -1.5832e-01, -1.0670e+00],\n",
      "        [ 1.9703e-01,  1.3956e+00,  8.1914e-01, -1.0889e+00,  1.6004e+00,\n",
      "         -9.6986e-01, -1.2646e+00, -3.7272e-02,  3.6791e-01,  1.5251e+00],\n",
      "        [-8.5902e-01,  6.0738e-02, -7.5976e-01, -2.0690e+00, -2.5325e-01,\n",
      "          1.7633e-01,  1.6567e+00,  7.8236e-01,  5.2659e-01, -5.9278e-01],\n",
      "        [-4.0302e-01, -4.7553e-01,  1.5605e-01,  1.3210e-01, -4.7082e-01,\n",
      "         -2.3090e+00, -2.1389e-01,  5.1635e-01, -1.1987e-01, -1.4485e+00],\n",
      "        [ 1.0311e+00,  3.8433e-01, -5.5112e-02, -1.7017e+00,  8.5356e-04,\n",
      "          1.5495e+00,  1.6227e+00,  1.1992e+00,  1.1500e+00,  7.1647e-01],\n",
      "        [-5.3305e-01,  1.2692e+00,  3.8332e-01,  1.1824e+00,  6.6392e-01,\n",
      "         -1.6709e-01,  5.0572e-01, -4.0466e-01,  3.0770e-01,  1.0529e+00],\n",
      "        [-8.5891e-01, -7.2897e-01, -1.4965e+00,  1.2262e+00,  7.7997e-01,\n",
      "          1.3032e+00, -1.0235e-01,  1.8754e+00, -1.5700e-01,  1.4654e-01]])\n",
      "tensor([[7.4715, 2.9710, 2.4360, 5.0678, 2.0317, 8.6996, 6.6746, 3.7866, 3.6800,\n",
      "         0.7443],\n",
      "        [7.1023, 9.0206, 9.4182, 7.1989, 2.3833, 7.4252, 1.5135, 1.0249, 4.4664,\n",
      "         9.2186],\n",
      "        [3.9026, 9.5152, 4.0364, 8.3954, 7.7562, 1.0862, 6.4687, 1.8149, 4.8359,\n",
      "         3.3622],\n",
      "        [4.4959, 0.9852, 2.1348, 4.8931, 0.1581, 0.3558, 6.7626, 6.9569, 7.6390,\n",
      "         5.6589],\n",
      "        [2.0526, 2.6142, 9.9283, 3.5148, 9.7561, 5.6242, 6.0983, 5.5191, 1.6101,\n",
      "         1.5909],\n",
      "        [2.2658, 2.3151, 1.4271, 0.5235, 6.4643, 8.9242, 0.3372, 5.7740, 1.9536,\n",
      "         9.7056],\n",
      "        [1.2284, 9.3024, 7.1564, 1.7539, 7.6218, 1.2605, 8.0888, 4.1179, 4.1646,\n",
      "         0.8492],\n",
      "        [4.9709, 3.9077, 8.9527, 0.5926, 1.9318, 3.7786, 3.8979, 5.7743, 4.1223,\n",
      "         8.8119],\n",
      "        [6.9829, 3.7594, 3.0486, 3.1939, 9.4444, 0.1360, 5.3692, 5.6848, 6.8674,\n",
      "         4.8527],\n",
      "        [9.2087, 8.2190, 4.2997, 6.0739, 0.5713, 4.3545, 7.4769, 1.9379, 6.4739,\n",
      "         7.5827]])\n",
      "tensor([[0.3000, 0.3000, 0.3000, 0.3000, 0.3000],\n",
      "        [0.3000, 0.3000, 0.3000, 0.3000, 0.3000],\n",
      "        [0.3000, 0.3000, 0.3000, 0.3000, 0.3000]])\n"
     ]
    },
    {
     "name": "stderr",
     "output_type": "stream",
     "text": [
      "/opt/anaconda3/lib/python3.7/site-packages/ipykernel_launcher.py:8: UserWarning: nn.init.normal is now deprecated in favor of nn.init.normal_.\n",
      "  \n",
      "/opt/anaconda3/lib/python3.7/site-packages/ipykernel_launcher.py:11: UserWarning: nn.init.uniform is now deprecated in favor of nn.init.uniform_.\n",
      "  # This is added back by InteractiveShellApp.init_path()\n"
     ]
    }
   ],
   "source": [
    "\"\"\"\n",
    "一些权重初始化的方法\n",
    "bias一般用torch.zeors\n",
    "\"\"\"\n",
    "d = torch.randn([10, 10])\n",
    "print(d)\n",
    "\n",
    "d_normal = torch.nn.init.normal(d, 0, 1)\n",
    "print(d_normal)\n",
    "\n",
    "d_uniform = torch.nn.init.uniform(d, 0, 10)\n",
    "print(d_uniform)\n",
    "\n",
    "w = torch.empty(3, 5)\n",
    "nn.init.constant_(w, 0.3)\n",
    "print(w)"
   ]
  },
  {
   "cell_type": "code",
   "execution_count": 26,
   "metadata": {},
   "outputs": [
    {
     "name": "stdout",
     "output_type": "stream",
     "text": [
      "tensor([[-1.,  1.,  2.],\n",
      "        [ 2.,  2.,  4.]])\n",
      "tensor([[-1.,  1.,  2.],\n",
      "        [ 2.,  2.,  4.]])\n"
     ]
    }
   ],
   "source": [
    "f = torch.Tensor([[-1, 1, 2], [2, 2, 4]])\n",
    "print(f)\n",
    "f = f.float()\n",
    "print(f)"
   ]
  },
  {
   "cell_type": "code",
   "execution_count": null,
   "metadata": {},
   "outputs": [],
   "source": []
  }
 ],
 "metadata": {
  "kernelspec": {
   "display_name": "Python 3",
   "language": "python",
   "name": "python3"
  },
  "language_info": {
   "codemirror_mode": {
    "name": "ipython",
    "version": 3
   },
   "file_extension": ".py",
   "mimetype": "text/x-python",
   "name": "python",
   "nbconvert_exporter": "python",
   "pygments_lexer": "ipython3",
   "version": "3.7.4"
  }
 },
 "nbformat": 4,
 "nbformat_minor": 4
}
