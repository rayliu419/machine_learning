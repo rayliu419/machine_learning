{
 "cells": [
  {
   "cell_type": "code",
   "execution_count": 13,
   "metadata": {},
   "outputs": [],
   "source": [
    "import torch\n",
    "import torch.nn as nn\n",
    "\n",
    "import sys\n",
    "sys.path.append(\"../common\")"
   ]
  },
  {
   "cell_type": "code",
   "execution_count": null,
   "metadata": {},
   "outputs": [],
   "source": [
    "\"\"\"\n",
    "view()函数经常使用用来调整输入之类的。\n",
    "另外，就想view()暗示的，下游的数据是共享的。改变x，就会改变y和z。\n",
    "\"\"\"\n",
    "x = torch.randn(4, 4)\n",
    "print(x)\n",
    "y = x.view(16)\n",
    "print(y)\n",
    "\"\"\"\n",
    "the size -1 表示本维度从其他维度推断\n",
    "\"\"\"\n",
    "z = x.view(-1, 8) \n",
    "print(z)"
   ]
  },
  {
   "cell_type": "code",
   "execution_count": null,
   "metadata": {},
   "outputs": [],
   "source": [
    "a = torch.ones([4, 3])\n",
    "print(a)\n",
    "b = torch.zeros([4, 3])\n",
    "print(b)"
   ]
  },
  {
   "cell_type": "code",
   "execution_count": null,
   "metadata": {},
   "outputs": [],
   "source": [
    "\"\"\"\n",
    "Tensor经常用的操作\n",
    "exp - 求exp, 可以输入二维数组\n",
    "sum - 返回标量，不管输入的是几维\n",
    "/ - 元素除\n",
    "\"\"\"\n",
    "c = torch.Tensor([[-1, 1, 2], [2, 2, 4]])\n",
    "c_exp = c.exp()\n",
    "print(c_exp)\n",
    "c_sum = c.sum()\n",
    "print(c_sum)\n",
    "c_divide = c / c_sum\n",
    "print(c_divide)"
   ]
  },
  {
   "cell_type": "code",
   "execution_count": null,
   "metadata": {},
   "outputs": [],
   "source": [
    "\"\"\"\n",
    "Tensor常用函数\n",
    "Softmax = exp{xi} / sum(exp{x1~xn})\n",
    "\"\"\"\n",
    "softmax_func = nn.Softmax(dim = 1)\n",
    "c_softmax = softmax_func(c)\n",
    "print(c_softmax)\n",
    "\n",
    "x_input = torch.randn(1, 5)\n",
    "print('x_input:\\n',x_input)\n",
    "y_target = torch.tensor([1])\n",
    "print('y_target\\n',y_target)\n",
    "crossentropyloss = nn.CrossEntropyLoss()\n",
    "crossentropyloss_output = crossentropyloss(x_input, y_target)\n",
    "print(crossentropyloss_output)"
   ]
  },
  {
   "cell_type": "code",
   "execution_count": null,
   "metadata": {},
   "outputs": [],
   "source": [
    "\"\"\"\n",
    "一些权重初始化的方法\n",
    "bias一般用torch.zeors\n",
    "\"\"\"\n",
    "d = torch.randn([10, 10])\n",
    "print(d)\n",
    "\n",
    "d_normal = torch.nn.init.normal(d, 0, 1)\n",
    "print(d_normal)\n",
    "\n",
    "d_uniform = torch.nn.init.uniform(d, 0, 10)\n",
    "print(d_uniform)\n",
    "\n",
    "w = torch.empty(3, 5)\n",
    "nn.init.constant_(w, 0.3)\n",
    "print(w)"
   ]
  },
  {
   "cell_type": "code",
   "execution_count": null,
   "metadata": {},
   "outputs": [],
   "source": [
    "f = torch.Tensor([[-1, 1, 2], [2, 2, 4]])\n",
    "print(f)\n",
    "f = f.float()\n",
    "print(f)"
   ]
  },
  {
   "cell_type": "code",
   "execution_count": null,
   "metadata": {},
   "outputs": [],
   "source": []
  }
 ],
 "metadata": {
  "kernelspec": {
   "display_name": "Python 3",
   "language": "python",
   "name": "python3"
  },
  "language_info": {
   "codemirror_mode": {
    "name": "ipython",
    "version": 3
   },
   "file_extension": ".py",
   "mimetype": "text/x-python",
   "name": "python",
   "nbconvert_exporter": "python",
   "pygments_lexer": "ipython3",
   "version": "3.7.4"
  }
 },
 "nbformat": 4,
 "nbformat_minor": 4
}
