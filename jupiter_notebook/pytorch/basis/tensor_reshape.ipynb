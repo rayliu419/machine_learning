{
 "cells": [
  {
   "cell_type": "code",
   "execution_count": 12,
   "metadata": {},
   "outputs": [],
   "source": [
    "\"\"\"\n",
    "会改变tensor的形状。\n",
    "这个经常要使用，为什么？\n",
    "因为\n",
    "\"\"\"\n",
    "import torch\n",
    "import numpy as np\n",
    "import torch.nn as nn"
   ]
  },
  {
   "cell_type": "code",
   "execution_count": 13,
   "metadata": {},
   "outputs": [
    {
     "name": "stdout",
     "output_type": "stream",
     "text": [
      "tensor([[[1., 2., 3.]],\n",
      "\n",
      "        [[4., 5., 6.]],\n",
      "\n",
      "        [[7., 8., 9.]]])\n",
      "torch.Size([3, 1, 3])\n"
     ]
    }
   ],
   "source": [
    "tensor_3d = torch.Tensor([[[1,2,3]], [[4,5,6]], [[7,8,9]]])\n",
    "print(tensor_3d)\n",
    "print(tensor_3d.size())"
   ]
  },
  {
   "cell_type": "code",
   "execution_count": 14,
   "metadata": {},
   "outputs": [
    {
     "name": "stdout",
     "output_type": "stream",
     "text": [
      "tensor([[1., 2., 3., 4., 5., 6., 7., 8., 9.]])\n",
      "torch.Size([1, 9])\n"
     ]
    }
   ],
   "source": [
    "reshape = tensor_3d.reshape((1, 9))\n",
    "print(reshape)\n",
    "print(reshape.size())"
   ]
  },
  {
   "cell_type": "code",
   "execution_count": 20,
   "metadata": {},
   "outputs": [
    {
     "name": "stdout",
     "output_type": "stream",
     "text": [
      "tensor([[1., 2., 3., 4., 5., 6., 7., 8., 9.]])\n",
      "torch.Size([1, 9])\n",
      "tensor([[[1.],\n",
      "         [2.],\n",
      "         [3.]],\n",
      "\n",
      "        [[4.],\n",
      "         [5.],\n",
      "         [6.]],\n",
      "\n",
      "        [[7.],\n",
      "         [8.],\n",
      "         [9.]]])\n",
      "torch.Size([3, 3, 1])\n"
     ]
    }
   ],
   "source": [
    "view1 = tensor_3d.view((1, 9))\n",
    "print(view1)\n",
    "print(view1.size())\n",
    "\n",
    "# the size -1 表示本维度从其他维度推断\n",
    "view2 = tensor_3d.view((3, 3, -1))\n",
    "print(view2)\n",
    "print(view2.size())"
   ]
  },
  {
   "cell_type": "code",
   "execution_count": 15,
   "metadata": {},
   "outputs": [
    {
     "name": "stdout",
     "output_type": "stream",
     "text": [
      "tensor([[[1., 2., 3.],\n",
      "         [4., 5., 6.],\n",
      "         [7., 8., 9.]]])\n",
      "torch.Size([1, 3, 3])\n"
     ]
    }
   ],
   "source": [
    "transpose = torch.transpose(tensor_3d, 0, 1)\n",
    "print(transpose)\n",
    "print(transpose.size())"
   ]
  },
  {
   "cell_type": "code",
   "execution_count": 16,
   "metadata": {},
   "outputs": [
    {
     "name": "stdout",
     "output_type": "stream",
     "text": [
      "tensor([[[1., 2., 3.]],\n",
      "\n",
      "        [[4., 5., 6.]],\n",
      "\n",
      "        [[7., 8., 9.]]])\n",
      "torch.Size([3, 1, 3])\n"
     ]
    }
   ],
   "source": [
    "# squeeze1是无效的。\n",
    "squeeze1 = torch.squeeze(tensor_3d, dim=0)\n",
    "print(squeeze1)\n",
    "print(squeeze1.size())"
   ]
  },
  {
   "cell_type": "code",
   "execution_count": 17,
   "metadata": {},
   "outputs": [
    {
     "name": "stdout",
     "output_type": "stream",
     "text": [
      "tensor([[1., 2., 3.],\n",
      "        [4., 5., 6.],\n",
      "        [7., 8., 9.]])\n",
      "torch.Size([3, 3])\n"
     ]
    }
   ],
   "source": [
    "squeeze2 = torch.squeeze(tensor_3d, dim=1)\n",
    "print(squeeze2)\n",
    "print(squeeze2.size())"
   ]
  },
  {
   "cell_type": "code",
   "execution_count": 18,
   "metadata": {},
   "outputs": [
    {
     "name": "stdout",
     "output_type": "stream",
     "text": [
      "tensor([[[1., 2., 3.],\n",
      "         [4., 5., 6.],\n",
      "         [7., 8., 9.]]])\n",
      "torch.Size([1, 3, 3])\n"
     ]
    }
   ],
   "source": [
    "unsqueeze = torch.unsqueeze(squeeze2, dim=0)\n",
    "print(unsqueeze)\n",
    "print(unsqueeze.size())"
   ]
  },
  {
   "cell_type": "code",
   "execution_count": 21,
   "metadata": {},
   "outputs": [
    {
     "name": "stdout",
     "output_type": "stream",
     "text": [
      "tensor([0., 0., 0., 0.])\n",
      "tensor([[0., 0., 0., 0.]])\n",
      "tensor([[0.],\n",
      "        [0.],\n",
      "        [0.],\n",
      "        [0.]])\n",
      "tensor([0., 0., 0., 0.])\n",
      "tensor([0., 0., 0., 0.])\n",
      "tensor([[1., 2., 3.],\n",
      "        [4., 5., 6.]])\n",
      "tensor([[[1., 2., 3.],\n",
      "         [4., 5., 6.]]])\n",
      "tensor([[[1., 2., 3.]],\n",
      "\n",
      "        [[4., 5., 6.]]])\n"
     ]
    }
   ],
   "source": [
    "\"\"\"\n",
    "怎么理解squeeze和unsqueeze:\n",
    "If you look at the shape of the array before and after, \n",
    "you see that before it was (4,) and after it is (1, 4) (when second parameter is 0)\n",
    "and (4, 1) (when second parameter is 1). So a 1 was inserted in the shape of the array at axis 0 or 1, \n",
    "depending on the value of the second parameter.\n",
    "That is opposite of np.squeeze() which removes axes of size 1 (singletons).\n",
    "为什么需要squeeze/unsqueeze?我觉得应该是为了满足某些layer的input的shape的要求，老是需要调整\n",
    "shape。\n",
    "\"\"\"\n",
    "g = torch.zeros(4)\n",
    "print(g)\n",
    "# g shape is (4)\n",
    "g_unsqueezz_dim0 = torch.unsqueeze(g, dim=0)\n",
    "# 在(4)的0位置插入一个1，变成(1, 4)\n",
    "g_unsqueezz_dim1 = torch.unsqueeze(g, dim=1)\n",
    "# 在(4)的1位置插入1，变成(4,1)\n",
    "print(g_unsqueezz_dim0)\n",
    "print(g_unsqueezz_dim1)\n",
    "g_squeeze_dim0 = torch.squeeze(g_unsqueezz_dim0, dim=0)\n",
    "print(g_squeeze_dim0)\n",
    "# (1, 4)的0位置移除1，变成(4)\n",
    "g_squeeze_dim1 = torch.squeeze(g_unsqueezz_dim1, dim=1)\n",
    "# (4, 1)位置移除1，变成(4)\n",
    "print(g_squeeze_dim1)\n",
    "\n",
    "h = torch.Tensor([[1, 2, 3], [4, 5, 6]])\n",
    "print(h)\n",
    "h_dim0 = torch.unsqueeze(h, dim=0)\n",
    "print(h_dim0)\n",
    "# (1, 2, 3)\n",
    "h_dim1 = torch.unsqueeze(h, dim=1)\n",
    "print(h_dim1)\n",
    "# (2, 1, 3)"
   ]
  },
  {
   "cell_type": "code",
   "execution_count": null,
   "metadata": {},
   "outputs": [],
   "source": []
  }
 ],
 "metadata": {
  "kernelspec": {
   "display_name": "Python 3",
   "language": "python",
   "name": "python3"
  },
  "language_info": {
   "codemirror_mode": {
    "name": "ipython",
    "version": 3
   },
   "file_extension": ".py",
   "mimetype": "text/x-python",
   "name": "python",
   "nbconvert_exporter": "python",
   "pygments_lexer": "ipython3",
   "version": "3.7.4"
  }
 },
 "nbformat": 4,
 "nbformat_minor": 4
}
