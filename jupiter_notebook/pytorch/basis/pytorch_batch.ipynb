{
 "cells": [
  {
   "cell_type": "code",
   "execution_count": null,
   "metadata": {},
   "outputs": [],
   "source": [
    "\"\"\"\n",
    "pytorch_regression和pytorch_classification都是用的一次性的数据，但是一般情况这样不行，因为数据量太大，\n",
    "load不到内存，另外时间太长。\n",
    "\"\"\"\n",
    "\n",
    "import torch\n",
    "import  as Data\n",
    "\n",
    "torch.manual_seed(1)    # reproducible\n",
    "\n",
    "BATCH_SIZE = 5\n",
    "# BATCH_SIZE = 8\n",
    "\n",
    "x = torch.linspace(1, 10, 10)       # this is x data (torch tensor)\n",
    "y = torch.linspace(10, 1, 10)       # this is y data (torch tensor)\n",
    "\n",
    "torch_dataset = Data.TensorDataset(x, y)\n",
    "loader = Data.DataLoader(\n",
    "    dataset=torch_dataset,      # torch TensorDataset format\n",
    "    batch_size=BATCH_SIZE,      # mini batch size\n",
    "    shuffle=True,               # random shuffle for training\n",
    "    num_workers=2,              # subprocesses for loading data\n",
    ")\n",
    "\n",
    "\n",
    "def show_batch():\n",
    "    for epoch in range(3):   # train entire dataset 3 times\n",
    "        for step, (batch_x, batch_y) in enumerate(loader):  # for each training step\n",
    "            # train your data...\n",
    "            # 一次取一部分。\n",
    "            print('Epoch: ', epoch, '| Step: ', step, '| batch x: ',\n",
    "                  batch_x.numpy(), '| batch y: ', batch_y.numpy())\n",
    "\n",
    "\n",
    "if __name__ == '__main__':\n",
    "    show_batch()"
   ]
  },
  {
   "cell_type": "code",
   "execution_count": null,
   "metadata": {},
   "outputs": [],
   "source": []
  }
 ],
 "metadata": {
  "kernelspec": {
   "display_name": "Python 3",
   "language": "python",
   "name": "python3"
  },
  "language_info": {
   "codemirror_mode": {
    "name": "ipython",
    "version": 3
   },
   "file_extension": ".py",
   "mimetype": "text/x-python",
   "name": "python",
   "nbconvert_exporter": "python",
   "pygments_lexer": "ipython3",
   "version": "3.7.6"
  }
 },
 "nbformat": 4,
 "nbformat_minor": 4
}
