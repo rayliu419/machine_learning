{
 "cells": [
  {
   "cell_type": "code",
   "execution_count": null,
   "metadata": {},
   "outputs": [],
   "source": [
    "import torch\n",
    "import torch.nn as nn\n",
    "import sys\n",
    "sys.path.append(\"../common\")"
   ]
  },
  {
   "cell_type": "code",
   "execution_count": null,
   "metadata": {},
   "outputs": [],
   "source": [
    "\"\"\"\n",
    "Tensor经常用的操作\n",
    "exp - 求exp, 可以输入二维数组\n",
    "sum - 返回标量，不管输入的是几维\n",
    "/ - 元素除\n",
    "\"\"\"\n",
    "c = torch.Tensor([[-1, 1, 2], [2, 2, 4]])\n",
    "c_exp = c.exp()\n",
    "print(c_exp)\n",
    "c_sum = c.sum()\n",
    "print(c_sum)\n",
    "c_divide = c / c_sum\n",
    "print(c_divide)"
   ]
  },
  {
   "cell_type": "code",
   "execution_count": null,
   "metadata": {},
   "outputs": [],
   "source": [
    "\"\"\"\n",
    "Tensor常用函数\n",
    "Softmax = exp{xi} / sum(exp{x1~xn})\n",
    "\"\"\"\n",
    "softmax_func = nn.Softmax(dim = 1)\n",
    "c_softmax = softmax_func(c)\n",
    "print(c_softmax)\n",
    "\n",
    "x_input = torch.randn(1, 5)\n",
    "print('x_input:\\n',x_input)\n",
    "y_target = torch.tensor([1])\n",
    "print('y_target\\n',y_target)\n",
    "crossentropyloss = nn.CrossEntropyLoss()\n",
    "crossentropyloss_output = crossentropyloss(x_input, y_target)\n",
    "print(crossentropyloss_output)"
   ]
  },
  {
   "cell_type": "code",
   "execution_count": null,
   "metadata": {},
   "outputs": [],
   "source": [
    "# CrossEntropyLoss的用法\n",
    "loss = nn.CrossEntropyLoss()\n",
    "input = torch.randn(8, 2, requires_grad=True)\n",
    "target = torch.empty(8, dtype=torch.long).random_(2)\n",
    "print(input)\n",
    "print(target)\n",
    "output = loss(input, target)\n",
    "print(output)"
   ]
  },
  {
   "cell_type": "code",
   "execution_count": 6,
   "metadata": {},
   "outputs": [
    {
     "name": "stdout",
     "output_type": "stream",
     "text": [
      "tensor(2.9938)\n"
     ]
    }
   ],
   "source": [
    "z = torch.Tensor([-2.8961, -2.9042, -2.9938, -2.9543, -2.8207, -2.9718, -2.8264, -2.8576,\n",
    "        -2.8961, -2.7781, -2.8565, -2.9186, -2.9661, -2.7642, -2.9291, -2.8690,\n",
    "        -2.9487, -2.9125])\n",
    "z = z.unsqueeze(0)\n",
    "loss_func = nn.NLLLoss()\n",
    "target = torch.Tensor([2]).long()\n",
    "loss = loss_func(z, target)\n",
    "print(loss)\n"
   ]
  }
 ],
 "metadata": {
  "kernelspec": {
   "display_name": "Python 3",
   "language": "python",
   "name": "python3"
  },
  "language_info": {
   "codemirror_mode": {
    "name": "ipython",
    "version": 3
   },
   "file_extension": ".py",
   "mimetype": "text/x-python",
   "name": "python",
   "nbconvert_exporter": "python",
   "pygments_lexer": "ipython3",
   "version": "3.7.4"
  }
 },
 "nbformat": 4,
 "nbformat_minor": 4
}
