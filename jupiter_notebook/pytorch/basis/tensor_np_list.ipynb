{
 "cells": [
  {
   "cell_type": "code",
   "execution_count": 1,
   "metadata": {},
   "outputs": [
    {
     "name": "stdout",
     "output_type": "stream",
     "text": [
      "<class 'numpy.ndarray'>\n",
      "[1 2 3]\n",
      "<class 'list'>\n",
      "[1, 2, 3]\n",
      "<class 'torch.Tensor'>\n",
      "tensor([1., 2., 3.])\n",
      "<class 'list'>\n",
      "[1.0, 2.0, 3.0]\n",
      "<class 'numpy.ndarray'>\n",
      "[1. 2. 3.]\n",
      "<class 'torch.Tensor'>\n",
      "tensor([1., 2., 3.])\n"
     ]
    }
   ],
   "source": [
    "import numpy as np\n",
    "import torch\n",
    "\n",
    "\n",
    "def print_type_value(item):\n",
    "    print(type(item))\n",
    "    print(item)\n",
    "\n",
    "list = [1, 2, 3]\n",
    "\n",
    "#1.1 list 转 numpy\n",
    "ndarray = np.array(list)\n",
    "print_type_value(ndarray)\n",
    "\n",
    "# 1.2 numpy 转 list\n",
    "list = ndarray.tolist()\n",
    "print_type_value(list)\n",
    "\n",
    "# 2.1 list 转 torch.Tensor\n",
    "tensor = torch.Tensor(list)\n",
    "print_type_value(tensor)\n",
    "\n",
    "# 2.2 torch.Tensor 转 list, 先转numpy，后转list\n",
    "list = tensor.numpy().tolist()\n",
    "print_type_value(list)\n",
    "\n",
    "# 3.1 torch.Tensor 转 numpy\n",
    "ndarray = tensor.numpy()\n",
    "# *gpu上的tensor不能直接转为numpy\n",
    "ndarray = tensor.cpu().numpy()\n",
    "print_type_value(ndarray)\n",
    "\n",
    "# 3.2 numpy 转 torch.Tensor\n",
    "tensor = torch.from_numpy(ndarray)\n",
    "print_type_value(tensor)"
   ]
  },
  {
   "cell_type": "code",
   "execution_count": null,
   "metadata": {},
   "outputs": [],
   "source": []
  }
 ],
 "metadata": {
  "kernelspec": {
   "display_name": "Python 3",
   "language": "python",
   "name": "python3"
  },
  "language_info": {
   "codemirror_mode": {
    "name": "ipython",
    "version": 3
   },
   "file_extension": ".py",
   "mimetype": "text/x-python",
   "name": "python",
   "nbconvert_exporter": "python",
   "pygments_lexer": "ipython3",
   "version": "3.7.4"
  }
 },
 "nbformat": 4,
 "nbformat_minor": 4
}
