{
 "cells": [
  {
   "cell_type": "code",
   "execution_count": 2,
   "metadata": {},
   "outputs": [
    {
     "ename": "SyntaxError",
     "evalue": "non-default argument follows default argument (<ipython-input-2-e44f4e6cf21a>, line 32)",
     "output_type": "error",
     "traceback": [
      "\u001b[0;36m  File \u001b[0;32m\"<ipython-input-2-e44f4e6cf21a>\"\u001b[0;36m, line \u001b[0;32m32\u001b[0m\n\u001b[0;31m    def corr_with_columns(df, column_names_array=None, label_name):\u001b[0m\n\u001b[0m                         ^\u001b[0m\n\u001b[0;31mSyntaxError\u001b[0m\u001b[0;31m:\u001b[0m non-default argument follows default argument\n"
     ]
    }
   ],
   "source": [
    "import pandas as pd\n",
    "import matplotlib.pyplot as plt\n",
    "import seaborn as sns\n",
    "%matplotlib inline\n",
    "plt.style.use(\"fivethirtyeight\")\n",
    "\n",
    "# 对于二分类的数据的基本探索\n",
    "\n",
    "def basic_info(df, lable_name):\n",
    "    df.info()\n",
    "    df.isna.sum()\n",
    "    df.describe()\n",
    "    df[label_name].value_counts(normalize=True)\n",
    "\n",
    "# 二分类问题label在不同的定量列属性的差别，直方图表示\n",
    "# label要转换成0/1\n",
    "def quantitavie_atrributes_compare_with_labels(df, column_names_array, label_name):\n",
    "    if len(column_names_array) > 8:\n",
    "        print(\"too many columns\")\n",
    "        exit(-1)\n",
    "    for col in column_names_array:\n",
    "        plt.hist(df[df[label_name] == 0][col], 10, alpha = 0.5, label = '0')\n",
    "        plt.hist(df[df[label_name] == 1][col], 10, alpha = 0.5, label = '1')\n",
    "        plt.legend(loc=\"upper right\")\n",
    "        plt.xlabel(col)\n",
    "        plt.ylabel(\"Frequency\")\n",
    "        plt.title(\"Histogram of {}\".format(col))\n",
    "        plt.show()\n",
    "        \n",
    "    \n",
    "# 求给出列与lable的相关系数\n",
    "def corr_with_columns(df, column_names_array=None, label_name):  \n",
    "    df2 = df[column_names_array]\n",
    "    df2[label_name] = df[label_name]\n",
    "    df2.corr()[label_name]\n",
    "\n",
    "    "
   ]
  },
  {
   "cell_type": "code",
   "execution_count": null,
   "metadata": {},
   "outputs": [],
   "source": []
  }
 ],
 "metadata": {
  "kernelspec": {
   "display_name": "Python 3",
   "language": "python",
   "name": "python3"
  },
  "language_info": {
   "codemirror_mode": {
    "name": "ipython",
    "version": 3
   },
   "file_extension": ".py",
   "mimetype": "text/x-python",
   "name": "python",
   "nbconvert_exporter": "python",
   "pygments_lexer": "ipython3",
   "version": "3.7.4"
  }
 },
 "nbformat": 4,
 "nbformat_minor": 4
}
