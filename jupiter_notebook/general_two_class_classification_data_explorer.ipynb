{
 "cells": [
  {
   "cell_type": "code",
   "execution_count": null,
   "metadata": {},
   "outputs": [],
   "source": [
    "# 对于二分类的数据的基本探索\n",
    "\n",
    "def basic_info(df):\n",
    "    df.info()\n",
    "    df.isna.sum()\n",
    "\n",
    "# 二分类问题label在不同的定量列属性的差别，直方图表示\n",
    "def quantitavie_atrributes_compare_with_labels(df, column_names_array, label_name):\n",
    "    \n",
    "# 求给出列与lable的相关系数\n",
    "def corr_with_columns(df, column_names_array=None, label_name):    \n",
    "\n",
    "    "
   ]
  }
 ],
 "metadata": {
  "kernelspec": {
   "display_name": "Python 3",
   "language": "python",
   "name": "python3"
  },
  "language_info": {
   "codemirror_mode": {
    "name": "ipython",
    "version": 3
   },
   "file_extension": ".py",
   "mimetype": "text/x-python",
   "name": "python",
   "nbconvert_exporter": "python",
   "pygments_lexer": "ipython3",
   "version": "3.7.4"
  }
 },
 "nbformat": 4,
 "nbformat_minor": 4
}
