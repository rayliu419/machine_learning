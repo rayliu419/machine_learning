{
 "cells": [
  {
   "cell_type": "code",
   "execution_count": null,
   "metadata": {},
   "outputs": [],
   "source": [
    "\"\"\"\n",
    "演示怎么在训练好的模型上重新加载并运行。\n",
    "\"\"\"\n",
    "\n",
    "import pandas as pd\n",
    "from numpy import zeros\n",
    "from tensorflow.keras.callbacks import ModelCheckpoint\n",
    "from tensorflow.keras.models import load_model\n",
    "import re\n",
    "from sklearn.model_selection import train_test_split\n",
    "from tensorflow.keras.models import Sequential\n",
    "from tensorflow.keras.layers import Activation, Dropout, Dense, LSTM, Bidirectional\n",
    "from tensorflow.keras import regularizers\n",
    "from tensorflow.keras.utils import plot_model\n",
    "import sys\n",
    "sys.path.append(\"../common/\")\n",
    "import diabetes_helper\n",
    "\n",
    "X, Y, X_train_np, X_test_np, Y_train_np, Y_test_np = diabetes_helper.prepare_diabetes_data_for_task()\n",
    "\n",
    "model = Sequential()\n",
    "model.add(Dense(20, input_shape=(8, )))\n",
    "model.add(Dense(1, activation='sigmoid'))\n",
    "model.compile(optimizer='adam', loss='binary_crossentropy', metrics=['acc'])\n",
    "plot_model(model, to_file=\"./model_info/pima_model_structure.png\" , show_shapes=True)\n",
    "\n",
    "# 1. 存取模型。在val_acc最好的情况下把模型存取。这种方式把模型所有的信息都存下来了，包括模型结构，每层的权重，最有函数的选择等。\n",
    "model_file=\"./model_info/pima_model\"\n",
    "checkpoint = ModelCheckpoint(model_file, monitor='val_acc', verbose=1, save_best_only=True, mode='max')\n",
    "callbacks_list = [checkpoint]\n",
    "history = model.fit(X_train_np, Y_train_np, batch_size=16, epochs=20, verbose=1, validation_split=0.2, callbacks=callbacks_list)\n",
    "score, accuracy = model.evaluate(X_test_np, Y_test_np, verbose=0)\n",
    "print(\"test score : {} test acc : {}\".format(score, accuracy))\n",
    "\n",
    "# 2. load模型继续训练，为什么结果不一样？\n",
    "loaded_model = load_model(model_file)\n",
    "score, accuracy = loaded_model.evaluate(X_test_np, Y_test_np, verbose=0)\n",
    "print(\"just load from file\")\n",
    "print(\"test score : {} test acc : {}\".format(score, accuracy))\n",
    "\n",
    "history2 = loaded_model.fit(X_train_np, Y_train_np, batch_size=16, epochs=20, verbose=1, validation_split=0.2)\n",
    "score, accuracy = loaded_model.evaluate(X_test_np, Y_test_np, verbose=0)\n",
    "print(\"test score : {} test acc : {}\".format(score, accuracy))\n"
   ]
  },
  {
   "cell_type": "code",
   "execution_count": null,
   "metadata": {},
   "outputs": [],
   "source": []
  }
 ],
 "metadata": {
  "kernelspec": {
   "display_name": "Python 3",
   "language": "python",
   "name": "python3"
  },
  "language_info": {
   "codemirror_mode": {
    "name": "ipython",
    "version": 3
   },
   "file_extension": ".py",
   "mimetype": "text/x-python",
   "name": "python",
   "nbconvert_exporter": "python",
   "pygments_lexer": "ipython3",
   "version": "3.7.4"
  }
 },
 "nbformat": 4,
 "nbformat_minor": 4
}
