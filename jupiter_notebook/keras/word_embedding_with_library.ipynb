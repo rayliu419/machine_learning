{
 "cells": [
  {
   "cell_type": "code",
   "execution_count": null,
   "metadata": {},
   "outputs": [],
   "source": [
    "# 使用自己的语料训练word vector。\n",
    "# 在Keras中，可以使用自己训练的vector来作为输入，keras也可以自己训练\n",
    "\n",
    "import nltk\n",
    "# nltk.download('punkt')\n",
    "#nltk.download('stopwords')\n",
    "from nltk.tokenize import sent_tokenize, word_tokenize \n",
    "import warnings \n",
    "warnings.filterwarnings(action = 'ignore') \n",
    "from nltk.corpus import stopwords\n",
    "stopwords_en = set(stopwords.words('english'))\n",
    "  \n",
    "import gensim \n",
    "from gensim.models import Word2Vec \n",
    "    \n",
    "def read_file_to_sentence_array(file):\n",
    "    sentence_array = []\n",
    "    word_num = 0\n",
    "    uniq_word_num = 0\n",
    "    word_set = set()\n",
    "    with open(file) as infile:\n",
    "        for line in infile:\n",
    "            sentence_word = []\n",
    "            for word in word_tokenize(line):\n",
    "                if word not in stopwords_en:\n",
    "                    word_num += 1\n",
    "                    word_set.add(word)\n",
    "                    sentence_word.append(word.lower())\n",
    "            sentence_array.append(sentence_word)\n",
    "    uniq_word_num = len(word_set)\n",
    "    print(\"total word : {}\".format(word_num))\n",
    "    print(\"uniq word : {}\".format(uniq_word_num))\n",
    "    return sentence_array\n",
    "  \n",
    "data = read_file_to_sentence_array(\"./input_data/word_embedding.txt\")\n"
   ]
  },
  {
   "cell_type": "code",
   "execution_count": null,
   "metadata": {},
   "outputs": [],
   "source": [
    "# Create CBOW model \n",
    "model1 = gensim.models.Word2Vec(data, min_count = 1,  \n",
    "                              size = 100, window = 5) \n",
    "  \n",
    "# Create Skip Gram model \n",
    "# sg ({0, 1}, optional) – Training algorithm: 1 for skip-gram; otherwise CBOW.\n",
    "model2 = gensim.models.Word2Vec(data, min_count = 1, size = 100, \n",
    "                                             window = 5, sg = 1) \n",
    "\n",
    "model1.save(\"./output_data/model1.model\")\n",
    "model1.wv.save_word2vec_format(\"./output_data/word_vector1\")\n",
    "\n",
    "model2.save(\"./output_data/model2.model\")\n",
    "model2.wv.save_word2vec_format(\"./output_data/word_vector2\")"
   ]
  },
  {
   "cell_type": "code",
   "execution_count": null,
   "metadata": {},
   "outputs": [],
   "source": [
    "def print_sim(model, model_name, word1, word2):\n",
    "    print(\"Cosine similarity in model {} between {} and {} - {} \".format\n",
    "          (model_name, word1, word2, model.similarity(word1, word2))) \n",
    "\n",
    "print_sim(model1, \"CBOW\", \"alice\", \"wonderland\")\n",
    "print_sim(model1, \"CBOW\", \"alice\", \"machines\")\n",
    "print_sim(model1, \"CBOW\", \"king\", \"queen\")\n",
    "print_sim(model2, \"SKIP\", \"alice\", \"wonderland\")\n",
    "print_sim(model2, \"SKIP\", \"alice\", \"machines\")\n",
    "print_sim(model2, \"SKIP\", \"king\", \"queen\")\n",
    "\n",
    "    \n",
    "def find_similar_word(model, word):\n",
    "    wv = model.wv\n",
    "    print(type(wv.similar_by_word(word)))\n",
    "    print(wv.similar_by_word(word))\n",
    "    \n",
    "find_similar_word(model1, \"man\")\n",
    "find_similar_word(model2, \"man\")\n",
    "\n",
    "\n",
    "def find_most_similar(model, word):\n",
    "    print(model.most_similar(word))\n",
    "    \n",
    "find_most_similar(model1, \"man\")\n",
    "find_most_similar(model2, \"man\")\n",
    "\n"
   ]
  },
  {
   "cell_type": "code",
   "execution_count": null,
   "metadata": {},
   "outputs": [],
   "source": [
    "model2.most_similar(positive=[\"king\", \"woman\"], negative=[\"man\"])"
   ]
  },
  {
   "cell_type": "code",
   "execution_count": null,
   "metadata": {},
   "outputs": [],
   "source": []
  }
 ],
 "metadata": {
  "kernelspec": {
   "display_name": "Python 3",
   "language": "python",
   "name": "python3"
  },
  "language_info": {
   "codemirror_mode": {
    "name": "ipython",
    "version": 3
   },
   "file_extension": ".py",
   "mimetype": "text/x-python",
   "name": "python",
   "nbconvert_exporter": "python",
   "pygments_lexer": "ipython3",
   "version": "3.7.4"
  }
 },
 "nbformat": 4,
 "nbformat_minor": 4
}
