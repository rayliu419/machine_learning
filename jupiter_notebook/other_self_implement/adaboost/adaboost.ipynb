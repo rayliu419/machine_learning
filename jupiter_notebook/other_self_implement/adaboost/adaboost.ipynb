{
 "cells": [
  {
   "cell_type": "code",
   "execution_count": 4,
   "metadata": {},
   "outputs": [],
   "source": [
    "import matplotlib.pyplot as plt\n",
    "import numpy as np\n",
    "import pandas as pd\n",
    "from sklearn.model_selection import train_test_split\n",
    "from sklearn.datasets import make_hastie_10_2\n",
    "from sklearn.tree import DecisionTreeClassifier\n",
    "\n",
    "x, y = make_hastie_10_2(n_samples=10000)\n",
    "train_features, test_features, train_labels, test_labels = train_test_split(x, y, test_size=0.2, random_state=23323)\n"
   ]
  },
  {
   "cell_type": "code",
   "execution_count": null,
   "metadata": {},
   "outputs": [],
   "source": [
    "\"\"\"\n",
    "使用DecisionTree来决策\n",
    "\"\"\"\n",
    "def adaboost_clf(train_features, train_labels, test_features, test_labels, classifier_number):\n",
    "    # 每个模型的初始权重\n",
    "    weights = np.zeros(classifier_number)\n",
    "    for i in range(classifier_number):\n",
    "        model = DecisionTreeClassifier(max_depth=1)\n",
    "        "
   ]
  },
  {
   "cell_type": "code",
   "execution_count": null,
   "metadata": {},
   "outputs": [],
   "source": [
    "classifier_nums = [200, 400, 600, 800]\n",
    "# 这里的i代表弱分类器的个数，这里是为了比较弱分类器个数增加，效果会进一步提升\n",
    "for classifier_number in classifier_nums:\n",
    "    print \"classifier numbers: \" + str(classifier_number)\n",
    "    cur_err = adaboost_clf(Y_train, X_train, Y_test, X_test, classifier_number)\n",
    "    er_train.append(cur_err[0])\n",
    "    er_test.append(cur_err[1])\n",
    "print er_train\n",
    "print er_test"
   ]
  }
 ],
 "metadata": {
  "kernelspec": {
   "display_name": "Python 3",
   "language": "python",
   "name": "python3"
  },
  "language_info": {
   "codemirror_mode": {
    "name": "ipython",
    "version": 3
   },
   "file_extension": ".py",
   "mimetype": "text/x-python",
   "name": "python",
   "nbconvert_exporter": "python",
   "pygments_lexer": "ipython3",
   "version": "3.7.4"
  }
 },
 "nbformat": 4,
 "nbformat_minor": 4
}
