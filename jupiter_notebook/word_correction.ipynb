{
 "cells": [
  {
   "cell_type": "code",
   "execution_count": 13,
   "metadata": {},
   "outputs": [],
   "source": [
    "import json\n",
    "import tensorflow as tf\n",
    "\n",
    "# 函数用来parse SQuAD 2.0的数据\n",
    "# 我们只需要抽取文本信息, SQuAD2.0的数据格式比较奇怪\n",
    "def read_squad_examples(input_file, is_training):\n",
    "    with tf.io.gfile.GFile(input_file, \"r\") as reader:\n",
    "        input_data = json.load(reader)[\"data\"]\n",
    "    return input_data\n",
    "    \n",
    "json_data = read_squad_examples(\"./input_data/train-v2.0.json\", False)\n",
    "\n",
    "def abstarct_sentence(json_data):\n",
    "    fp = open(\"./input_data/english_text\", \"w\")\n",
    "    for article in json_data:\n",
    "        paragraphs = article[\"paragraphs\"]\n",
    "        for paragraph in paragraphs:\n",
    "            qas = paragraph[\"qas\"]\n",
    "            for qa in qas:\n",
    "                question = qa[\"question\"]\n",
    "                fp.write(question + \"\\n\")\n",
    "                answer_struct = qa[\"answers\"]\n",
    "                if (len(answer_struct) > 0):\n",
    "                    answer = answer_struct[0][\"text\"]\n",
    "                \n",
    "            fp.write(answer + \"\\n\")\n",
    "                break\n",
    "\n"
   ]
  },
  {
   "cell_type": "code",
   "execution_count": null,
   "metadata": {},
   "outputs": [],
   "source": [
    "# len(json_data)\n",
    "# json_data[1][\"paragraphs\"][1][\"qas\"][1][\"question\"]\n",
    "abstarct_sentence(json_data)"
   ]
  },
  {
   "cell_type": "code",
   "execution_count": null,
   "metadata": {},
   "outputs": [],
   "source": []
  }
 ],
 "metadata": {
  "kernelspec": {
   "display_name": "Python 3",
   "language": "python",
   "name": "python3"
  },
  "language_info": {
   "codemirror_mode": {
    "name": "ipython",
    "version": 3
   },
   "file_extension": ".py",
   "mimetype": "text/x-python",
   "name": "python",
   "nbconvert_exporter": "python",
   "pygments_lexer": "ipython3",
   "version": "3.7.4"
  }
 },
 "nbformat": 4,
 "nbformat_minor": 4
}
