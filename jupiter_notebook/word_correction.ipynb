{
 "cells": [
  {
   "cell_type": "code",
   "execution_count": 46,
   "metadata": {},
   "outputs": [],
   "source": [
    "# 从SQuAD 2.0出去文本数据，加入随机噪音生成训练集。\n",
    "# 比较不同的model的纠错效果。\n",
    "# 英文数据\n",
    "\n",
    "import json\n",
    "import tensorflow as tf\n",
    "import math\n",
    "import random\n",
    "import nltk\n",
    "from nltk.tokenize import word_tokenize\n",
    "import string\n",
    "from numpy.random import choice as random_choice, randint as random_randint, shuffle as random_shuffle, seed as random_seed\n",
    "import pandas as pd\n",
    "\n",
    "english_text_file = \"./input_data/abstract_english_text_file\"\n",
    "clean_english_text_file = \"./input_data/clean_english_text_file\"\n",
    "before_add_error_file = \"./input_data/before_add_error\"\n",
    "after_add_error_file = \"./input_data/after_add_error\"\n",
    "change_index_file = \"./input_data/change_index_file\"\n",
    "\n",
    "err_prob = {\n",
    "    \"replace_one_char\": 0.4,\n",
    "    \"add_one_char\": 0.2,\n",
    "    \"delete_one_char\": 0.2,\n",
    "    \"change_neighbor_order\": 0.2\n",
    "}\n",
    "\n",
    "# max_error_rate = 0.2\n",
    "char_list = list(\"abcdefghijklmnopqrstuvwxyzABCDEFGHIJKLMNOPQRSTUVWXYZ .\")\n",
    "max_error_line_length_rate = 0.05\n",
    "\n",
    "# 函数用来parse SQuAD 2.0的数据\n",
    "# 我们只需要抽取文本信息, SQuAD2.0的数据格式比较奇怪\n",
    "def read_squad_examples(input_file, is_training):\n",
    "    with tf.io.gfile.GFile(input_file, \"r\") as reader:\n",
    "        input_data = json.load(reader)[\"data\"]\n",
    "    return input_data\n",
    "    \n",
    "def isEnglish(s):\n",
    "    try:\n",
    "        s.encode(encoding='utf-8').decode('ascii')\n",
    "    except UnicodeDecodeError:\n",
    "        return False\n",
    "    else:\n",
    "        return True\n",
    "\n",
    "# 抽取英文文本，中文和其他类别的去掉\n",
    "def abstarct_sentence(json_data):\n",
    "    global english_text_file\n",
    "    fp = open(english_text_file, \"w\")\n",
    "    for article in json_data:\n",
    "        paragraphs = article[\"paragraphs\"]\n",
    "        for paragraph in paragraphs:\n",
    "            qas = paragraph[\"qas\"]\n",
    "            for qa in qas:\n",
    "                question = qa[\"question\"]\n",
    "                if isEnglish(question):\n",
    "                    fp.write(question + \"\\n\")\n",
    "                answer_struct = qa[\"answers\"]\n",
    "                if (len(answer_struct) > 0):\n",
    "                    answer = answer_struct[0][\"text\"]\n",
    "                    if isEnglish(answer):\n",
    "                        fp.write(answer + \"\\n\")\n",
    "    fp.close()\n",
    "    print(\"abstract finish\")\n",
    "\n",
    "def clean_file(file=english_text_file):\n",
    "    global clean_english_text_file\n",
    "    fp = open(file, \"r\")\n",
    "    fp2 = open(clean_english_text_file, \"w\")\n",
    "    for line in fp:\n",
    "        line = line.strip(\"\\n\")\n",
    "        if line != \"\" and line != \"null\":\n",
    "            fp2.write(line + \"\\n\")\n",
    "    fp.close()\n",
    "    fp2.close()\n",
    "\n",
    "def map_prob_to_range_with_keys(key_prob):\n",
    "    prob_list = list(key_prob.values())\n",
    "    prob_sum = sum(map(float,prob_list))\n",
    "    key_range = dict()\n",
    "    if math.isclose(prob_sum, 1) == False:\n",
    "        print(\"prob sum is not 1\")\n",
    "        sys.exit(-1)\n",
    "    else:\n",
    "        threshold = 0\n",
    "        for key, prob in key_prob.items():\n",
    "            key_range[key] = [threshold, threshold + prob]\n",
    "            threshold += prob\n",
    "    return key_range\n",
    "\n",
    "def choose_item_based_on_prob(key_range):\n",
    "    value = random.uniform(0, 1)\n",
    "    last_key = None\n",
    "    for key, prob_range in key_range.items():\n",
    "        last_key = key\n",
    "        if value >= prob_range[0] and value < prob_range[1]:\n",
    "            return key\n",
    "    return last_key\n",
    "\n",
    "# 随机修改正确的句子到错误的句子\n",
    "# 包括添加字符，删除字符，交换临近字符，替换字符\n",
    "def add_error_to_line(line):\n",
    "    max_error_line_length_rate\n",
    "    max_error_num = (int)(max_error_line_length_rate * len(line))\n",
    "    set_error_num = (int)(random.uniform(0, 1) * max_error_num)\n",
    "    cur_error_num = 0\n",
    "    before = line\n",
    "    after = line\n",
    "    key_range = map_prob_to_range_with_keys(err_prob)\n",
    "    while cur_error_num < set_error_num:\n",
    "        err_type = choose_item_based_on_prob(key_range)\n",
    "        cur_error_num += 1\n",
    "        if err_type == \"replace_one_char\":\n",
    "            random_char_position = random_randint(len(after))\n",
    "            after = after[:random_char_position] + random_choice(char_list[:-1]) \\\n",
    "            + after[random_char_position + 1:]\n",
    "        elif err_type == \"add_one_char\":\n",
    "            random_char_position = random_randint(len(after))\n",
    "            after = after[:random_char_position] + random_choice(char_list[:-1]) \\\n",
    "            + after[random_char_position:]\n",
    "        elif err_type == \"delete_one_char\":\n",
    "            random_char_position = random_randint(len(after))\n",
    "            after = after[:random_char_position] + after[random_char_position + 1:]\n",
    "        elif err_type == \"change_neighbor_order\":\n",
    "            random_char_position = random_randint(len(after) - 1)\n",
    "            after = (after[:random_char_position] + after[random_char_position + 1] \\\n",
    "            + after[random_char_position] + after[random_char_position + 2:])\n",
    "    return before, after\n",
    "\n",
    "def add_error_to_english_file():\n",
    "    global clean_english_text_file, before_add_error_file, after_add_error_file\n",
    "    ori_file = open(clean_english_text_file, \"r\")\n",
    "    before_file = open(before_add_error_file, \"w\")\n",
    "    after_file = open(after_add_error_file, \"w\")\n",
    "    change_index_fp = open(change_index_file, \"w\")\n",
    "    line_num = 1\n",
    "    for line in ori_file:\n",
    "        line = line.strip(\"\\n\")\n",
    "        before, after = add_error_to_line(line)\n",
    "        before_file.write(before + \"\\n\")\n",
    "        after_file.write(after + \"\\n\")\n",
    "        if before != after:\n",
    "            change_index_fp.write(str(line_num) + \"\\n\")\n",
    "        line_num += 1\n",
    "    before_file.close()\n",
    "    after_file.close()\n",
    "    change_index_fp.close()\n",
    "    print(\"add error finish\")\n",
    "\n",
    "# DL要求将字符转成int作为输入\n",
    "def char2int(file=before_add_error_file):\n",
    "    fp = open(file, \"r\")\n",
    "    all_text = fp.read()\n",
    "    fp.close()\n",
    "    chars = sorted(list(set(all_text)))\n",
    "    char2int_mapping =dict((c, i) for i, c in enumerate(chars))\n",
    "    return char2int_mapping, len(char2int_mapping)\n",
    "    "
   ]
  },
  {
   "cell_type": "code",
   "execution_count": 47,
   "metadata": {},
   "outputs": [
    {
     "name": "stdout",
     "output_type": "stream",
     "text": [
      "abstract finish\n"
     ]
    }
   ],
   "source": [
    "# 1. 抽取SQuAD 2.0的问答数据\n",
    "json_data = read_squad_examples(\"./input_data/train-v2.0.json\", False)\n",
    "abstarct_sentence(json_data)\n",
    "clean_file()"
   ]
  },
  {
   "cell_type": "code",
   "execution_count": 48,
   "metadata": {},
   "outputs": [
    {
     "name": "stdout",
     "output_type": "stream",
     "text": [
      "add error finish\n"
     ]
    }
   ],
   "source": [
    "# 2. 在抽取的文件中加入错误的噪音\n",
    "add_error_to_english_file()"
   ]
  },
  {
   "cell_type": "code",
   "execution_count": 49,
   "metadata": {},
   "outputs": [
    {
     "name": "stdout",
     "output_type": "stream",
     "text": [
      "                                                     text\n",
      "173905  What is mEant by the rea where ignals cannot b...\n",
      "173906                      Are basic antennas expensive?\n",
      "173907                             relatively inexpensive\n",
      "                                                     text\n",
      "173905  What is meant by the area where signals cannot...\n",
      "173906                      Are basic antennas expensive?\n",
      "173907                             relatively inexpensive\n"
     ]
    }
   ],
   "source": [
    "char2int_table, table_size = char2int()\n",
    "pd_Y = pd.read_table(before_add_error_file)\n",
    "pd_Y.columns = [\"text\"]\n",
    "\n",
    "pd_X = pd.read_table(after_add_error_file)\n",
    "pd_X.columns = [\"text\"]"
   ]
  },
  {
   "cell_type": "code",
   "execution_count": 50,
   "metadata": {},
   "outputs": [
    {
     "name": "stdout",
     "output_type": "stream",
     "text": [
      "[]\n",
      "[]\n"
     ]
    }
   ],
   "source": [
    "# 将pandas的text列由英文转成int\n",
    "def map_text_column_to_int(pd, char2int_table):\n",
    "    ignore_index = []\n",
    "    for index, row in pd.iterrows():\n",
    "        sentence = row[\"text\"]\n",
    "        try:\n",
    "            int_list = [char2int_table[c] for c in sentence]\n",
    "            row[\"text\"] = int_list\n",
    "        except TypeError as e:\n",
    "            print(sentence)\n",
    "            print(index)\n",
    "            print(e)\n",
    "            ignore_index.append(index)\n",
    "    return ignore_index \n",
    "\n",
    "ignore_index1 = map_text_column_to_int(pd_Y, char2int_table)\n",
    "ignore_index2 = map_text_column_to_int(pd_X, char2int_table)\n",
    "\n",
    "print(ignore_index1)\n",
    "print(ignore_index2)"
   ]
  },
  {
   "cell_type": "code",
   "execution_count": 51,
   "metadata": {},
   "outputs": [
    {
     "name": "stdout",
     "output_type": "stream",
     "text": [
      "                                                     text\n",
      "173905  [56, 72, 65, 84, 1, 73, 83, 1, 77, 38, 65, 78,...\n",
      "173906  [34, 82, 69, 1, 66, 65, 83, 73, 67, 1, 65, 78,...\n",
      "173907  [82, 69, 76, 65, 84, 73, 86, 69, 76, 89, 1, 73...\n"
     ]
    }
   ],
   "source": [
    "# 确保行数一样\n",
    "print(pd_X.info())\n",
    "print(pd_Y.info())\n",
    "if len(DataFrame.index)"
   ]
  },
  {
   "cell_type": "code",
   "execution_count": 52,
   "metadata": {},
   "outputs": [],
   "source": [
    "def simple_char_model(output_len, chars=None):\n",
    "    print('Build model...')\n",
    "    model = Sequential()\n",
    "    \n",
    "#     # \"Encode\" the input sequence using an RNN, producing an output of hidden_size\n",
    "#     # note: in a situation where your input sequences have a variable length,\n",
    "#     # use input_shape=(None, nb_feature).\n",
    "#     for layer_number in range(CONFIG.input_layers):\n",
    "#         model.add(recurrent.LSTM(CONFIG.hidden_size, input_shape=(None, len(chars)), kernel_initializer=CONFIG.initialization,\n",
    "#                                  return_sequences=layer_number + 1 < CONFIG.input_layers))\n",
    "#         model.add(Dropout(CONFIG.amount_of_dropout))\n",
    "#     # For the decoder's input, we repeat the encoded input for each time step\n",
    "#     model.add(RepeatVector(output_len))\n",
    "#     # The decoder RNN could be multiple layers stacked or a single layer\n",
    "#     for _ in range(CONFIG.output_layers):\n",
    "#         model.add(recurrent.LSTM(CONFIG.hidden_size, return_sequences=True, kernel_initializer=CONFIG.initialization))\n",
    "#         model.add(Dropout(CONFIG.amount_of_dropout))\n",
    "\n",
    "#     # For each of step of the output sequence, decide which character should be chosen\n",
    "#     model.add(TimeDistributed(Dense(len(chars), kernel_initializer=CONFIG.initialization)))\n",
    "#     model.add(Activation('softmax'))\n",
    "\n",
    "#     model.compile(loss='categorical_crossentropy', optimizer='adam', metrics=['accuracy'])\n",
    "    return model"
   ]
  }
 ],
 "metadata": {
  "kernelspec": {
   "display_name": "Python 3",
   "language": "python",
   "name": "python3"
  },
  "language_info": {
   "codemirror_mode": {
    "name": "ipython",
    "version": 3
   },
   "file_extension": ".py",
   "mimetype": "text/x-python",
   "name": "python",
   "nbconvert_exporter": "python",
   "pygments_lexer": "ipython3",
   "version": "3.7.4"
  }
 },
 "nbformat": 4,
 "nbformat_minor": 4
}
