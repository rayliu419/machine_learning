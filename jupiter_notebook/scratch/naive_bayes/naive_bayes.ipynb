{
 "cells": [
  {
   "cell_type": "code",
   "execution_count": 21,
   "metadata": {},
   "outputs": [
    {
     "name": "stderr",
     "output_type": "stream",
     "text": [
      "/opt/anaconda3/lib/python3.7/site-packages/ipykernel_launcher.py:24: ParserWarning: Falling back to the 'python' engine because the 'c' engine does not support regex separators (separators > 1 char and different from '\\s+' are interpreted as regex); you can avoid this warning by specifying engine='python'.\n"
     ]
    },
    {
     "data": {
      "text/html": [
       "<div>\n",
       "<style scoped>\n",
       "    .dataframe tbody tr th:only-of-type {\n",
       "        vertical-align: middle;\n",
       "    }\n",
       "\n",
       "    .dataframe tbody tr th {\n",
       "        vertical-align: top;\n",
       "    }\n",
       "\n",
       "    .dataframe thead th {\n",
       "        text-align: right;\n",
       "    }\n",
       "</style>\n",
       "<table border=\"1\" class=\"dataframe\">\n",
       "  <thead>\n",
       "    <tr style=\"text-align: right;\">\n",
       "      <th></th>\n",
       "      <th>Buying price</th>\n",
       "      <th>price of the maintenance</th>\n",
       "      <th>doors</th>\n",
       "      <th>persons</th>\n",
       "      <th>the size of luggage boot</th>\n",
       "      <th>safety</th>\n",
       "      <th>evaluation</th>\n",
       "    </tr>\n",
       "  </thead>\n",
       "  <tbody>\n",
       "    <tr>\n",
       "      <td>0</td>\n",
       "      <td>vhigh</td>\n",
       "      <td>vhigh</td>\n",
       "      <td>2</td>\n",
       "      <td>2</td>\n",
       "      <td>small</td>\n",
       "      <td>low</td>\n",
       "      <td>unacc</td>\n",
       "    </tr>\n",
       "    <tr>\n",
       "      <td>1</td>\n",
       "      <td>vhigh</td>\n",
       "      <td>vhigh</td>\n",
       "      <td>2</td>\n",
       "      <td>2</td>\n",
       "      <td>small</td>\n",
       "      <td>med</td>\n",
       "      <td>unacc</td>\n",
       "    </tr>\n",
       "    <tr>\n",
       "      <td>2</td>\n",
       "      <td>vhigh</td>\n",
       "      <td>vhigh</td>\n",
       "      <td>2</td>\n",
       "      <td>2</td>\n",
       "      <td>small</td>\n",
       "      <td>high</td>\n",
       "      <td>unacc</td>\n",
       "    </tr>\n",
       "    <tr>\n",
       "      <td>3</td>\n",
       "      <td>vhigh</td>\n",
       "      <td>vhigh</td>\n",
       "      <td>2</td>\n",
       "      <td>2</td>\n",
       "      <td>med</td>\n",
       "      <td>low</td>\n",
       "      <td>unacc</td>\n",
       "    </tr>\n",
       "    <tr>\n",
       "      <td>4</td>\n",
       "      <td>vhigh</td>\n",
       "      <td>vhigh</td>\n",
       "      <td>2</td>\n",
       "      <td>2</td>\n",
       "      <td>med</td>\n",
       "      <td>med</td>\n",
       "      <td>unacc</td>\n",
       "    </tr>\n",
       "  </tbody>\n",
       "</table>\n",
       "</div>"
      ],
      "text/plain": [
       "  Buying price price of the maintenance doors persons  \\\n",
       "0        vhigh                    vhigh     2       2   \n",
       "1        vhigh                    vhigh     2       2   \n",
       "2        vhigh                    vhigh     2       2   \n",
       "3        vhigh                    vhigh     2       2   \n",
       "4        vhigh                    vhigh     2       2   \n",
       "\n",
       "  the size of luggage boot safety evaluation  \n",
       "0                    small    low      unacc  \n",
       "1                    small    med      unacc  \n",
       "2                    small   high      unacc  \n",
       "3                      med    low      unacc  \n",
       "4                      med    med      unacc  "
      ]
     },
     "execution_count": 21,
     "metadata": {},
     "output_type": "execute_result"
    }
   ],
   "source": [
    "\"\"\"\n",
    "朴素贝叶斯的实现\n",
    "朴素贝叶斯的公式\n",
    "P(类别|多个特征) = P(类别) * P(多个特征|类别) / P(多个特征)\n",
    "P(多个特征)指的是多个特征的组合出现的概率，在预测时，大家都是一样的，所以不用计算。\n",
    "P(类别)表示这个类别的先验概率，即在训练集中各个类别本身分布的概率。\n",
    "P(多个特征|类别)表示给定类别以后，多个特征组合出现的概率，以下面的训练集举例：\n",
    "evaluation=unacc(不可接受)时，buying price=vhigh, price of the maintenance=vhigh, \n",
    "doors=2, persons=2, the size of luggage boot=small, safety=low这样的例子有多少。\n",
    "由于上述的特征之间是and关系，在实际例子中，可能会出现count=0的情况，朴素贝叶斯认为特征之间无关联关系，可以分开\n",
    "计算，P(多个特征|类别)退化为：\n",
    "P(特征1|类别)*P(特征2|类别)...\n",
    "综上所述，朴素贝叶斯其实就是各种count。\n",
    "\n",
    "实现其实没有考虑平滑化的问题,训练集中可能存在P(x1|Y)=0的情况。\n",
    "朴素贝叶斯的缺点在于实际上各个特征肯定存在关联，不应该独立来看，但是简单来看，性能还不错。\n",
    "\n",
    "\"\"\"\n",
    "df = pd.read_table('../data/car.txt', sep='\\s*,\\s*')\n",
    "df.head(5)\n",
    "\n",
    "car_label = df[[\"evaluation\"]]\n",
    "car_unique_label = car_label[\"evaluation\"].unique()\n",
    "\n",
    "df_test = df[len(df) - 10:len(df)]\n",
    "df_train = df[0:len(df) - 10]\n"
   ]
  },
  {
   "cell_type": "code",
   "execution_count": 30,
   "metadata": {},
   "outputs": [
    {
     "data": {
      "text/plain": [
       "array(['unacc', 'acc', 'vgood', 'good'], dtype=object)"
      ]
     },
     "execution_count": 30,
     "metadata": {},
     "output_type": "execute_result"
    }
   ],
   "source": [
    "def predict(df_train, df_test, label_name, car_unique_label):\n",
    "    predict = []\n",
    "    total = len(df_train)\n",
    "    total = len(df_train)\n",
    "    feature_cols = df_train.columns.values.tolist()\n",
    "    feature_cols.remove(\"evaluation\")\n",
    "    feature_indexes = np.arange(0, len(feature_cols))\n",
    "    for i in range(len(df_test)):\n",
    "        class_prob = []\n",
    "        for class_label in car_unique_label:\n",
    "            df_train_with_class_label = df_train[df_train[label_name] == class_label]\n",
    "            total_with_class = len(df_train_with_class_label)\n",
    "            class_label_prior = float(total_with_class) / float(total)\n",
    "            # 类别的先验概率\n",
    "            class_probability = class_label_prior\n",
    "            for feature, feature_index in zip(feature_cols, feature_indexes):\n",
    "                # 计算各个feature的P(特征|类别)\n",
    "                # 取sample的每个属性值\n",
    "                test_sample_feature_value = df_test[i:i+1].values.tolist()[0][feature_index]\n",
    "                df_feature = df_train_with_class_label[df_train_with_class_label[feature] == test_sample_feature_value]\n",
    "                total_with_class_and_value = len(df_feature)\n",
    "                feature_value_in_class_probability = float(total_with_class_and_value) / float(total_with_class)\n",
    "                class_probability *= feature_value_in_class_probability\n",
    "            # 计算完了所有的feature\n",
    "            class_prob.append((class_label, class_probability))\n",
    "        class_sort = sorted(class_prob, key=lambda x: x[1], reverse=True)\n",
    "        predict.append(class_sort[0][0])\n",
    "    return predict\n",
    "\n",
    "def accracy(predict, y):\n",
    "    total = len(predict)\n",
    "    correct = 0\n",
    "    for i in range(0, len(predict)):\n",
    "        if predict[i] == y[i]:\n",
    "            correct +=1\n",
    "    return correct / total"
   ]
  },
  {
   "cell_type": "code",
   "execution_count": null,
   "metadata": {},
   "outputs": [],
   "source": [
    "predict = predict(df_train, df_test, \"evaluation\", car_unique_label)\n",
    "test_y = df_test[\"evaluation\"].values.tolist()\n",
    "print(accracy(predict, test_y))\n"
   ]
  }
 ],
 "metadata": {
  "kernelspec": {
   "display_name": "Python 3",
   "language": "python",
   "name": "python3"
  },
  "language_info": {
   "codemirror_mode": {
    "name": "ipython",
    "version": 3
   },
   "file_extension": ".py",
   "mimetype": "text/x-python",
   "name": "python",
   "nbconvert_exporter": "python",
   "pygments_lexer": "ipython3",
   "version": "3.7.4"
  }
 },
 "nbformat": 4,
 "nbformat_minor": 4
}
