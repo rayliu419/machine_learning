{
 "cells": [
  {
   "cell_type": "code",
   "execution_count": 24,
   "metadata": {},
   "outputs": [
    {
     "data": {
      "text/plain": [
       "'ML_workflow.gv.pdf'"
      ]
     },
     "execution_count": 24,
     "metadata": {},
     "output_type": "execute_result"
    }
   ],
   "source": [
    "from graphviz import Digraph\n",
    "\n",
    "f = Digraph('ML_workflow', filename='ML_workflow.gv')\n",
    "# f.attr(rankdir='LR', size='5,3')\n",
    "\n",
    "f.attr('node', shape='doublecircle')\n",
    "f.node('data_explorer', '探索数据\\n'\n",
    "                        '* 看看feature数目\\n'\n",
    "                        '* 看看feature的属性分类\\n'\n",
    "                        '* 看看样本总数及标签分布\\n'\n",
    "                        '* 看看Nan值及补充\\n'\n",
    "                        '* 看看feature与标签的相关系数\\n')\n",
    "\n",
    "f.node('run_baseline', '选择模型跑基线\\n'\n",
    "                        '* 先用简单模型，例如线性模型\\n '\n",
    "                        '* 再用复杂模型，例如GBDT，DL等\\n')\n",
    "\n",
    "f.node('feature_engineering', '特征工程\\n' \n",
    "                              '* one-hot encoding, word embedding\\n '\n",
    "                              '* 离散化，标准化 - 标准化对某些算法提升很明显\\n')\n",
    "\n",
    "f.node('sample_engineering', '样本工程\\n' \n",
    "                              '* 调整样本集合，一般是增加样本个数\\n '\n",
    "                              '* 观察样本的比例，人为调整比例\\n')\n",
    "\n",
    "f.node('model_engineering', '模型工程\\n'\n",
    "                            '* 有的时候很难确定哪个模型好\\n'\n",
    "                            '* 应该优先选择可解释性强的\\n'\n",
    "                            '* 使用shap等库帮助分析\\n'\n",
    "                            '* ensemble方法\\n')\n",
    "\n",
    "f.node('adjust_hyper_parameter', '超参调整\\n'\n",
    "                                 '* 正则项\\n'\n",
    "                                 '* epoch，batch_size\\n')\n",
    "\n",
    "\n",
    "f.edge('data_explorer', 'run_baseline', label='开始学习')\n",
    "f.edge('run_baseline', 'feature_engineering', label='调整特征')\n",
    "f.edge('run_baseline', 'sample_engineering', label='调整样本')\n",
    "f.edge('run_baseline', 'model_engineering', label='调整模型')\n",
    "f.edge('model_engineering', 'adjust_hyper_parameter', label='调整模型超参')\n",
    "f.edge('model_engineering', 'sample_engineering', label='调整样本改进模型')\n",
    "f.edge('model_engineering', 'feature_engineering', label='调整特征改进模型')\n",
    "\n",
    "\n",
    "f.view()"
   ]
  },
  {
   "cell_type": "code",
   "execution_count": null,
   "metadata": {},
   "outputs": [],
   "source": []
  }
 ],
 "metadata": {
  "kernelspec": {
   "display_name": "Python 3",
   "language": "python",
   "name": "python3"
  },
  "language_info": {
   "codemirror_mode": {
    "name": "ipython",
    "version": 3
   },
   "file_extension": ".py",
   "mimetype": "text/x-python",
   "name": "python",
   "nbconvert_exporter": "python",
   "pygments_lexer": "ipython3",
   "version": "3.7.4"
  }
 },
 "nbformat": 4,
 "nbformat_minor": 4
}
