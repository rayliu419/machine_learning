{
 "cells": [
  {
   "cell_type": "code",
   "execution_count": 1,
   "metadata": {},
   "outputs": [
    {
     "ename": "ModuleNotFoundError",
     "evalue": "No module named 'graphviz'",
     "output_type": "error",
     "traceback": [
      "\u001b[0;31m---------------------------------------------------------------------------\u001b[0m",
      "\u001b[0;31mModuleNotFoundError\u001b[0m                       Traceback (most recent call last)",
      "\u001b[0;32m<ipython-input-1-8dabae51aaa0>\u001b[0m in \u001b[0;36m<module>\u001b[0;34m\u001b[0m\n\u001b[0;32m----> 1\u001b[0;31m \u001b[0;32mfrom\u001b[0m \u001b[0mgraphviz\u001b[0m \u001b[0;32mimport\u001b[0m \u001b[0mDigraph\u001b[0m\u001b[0;34m\u001b[0m\u001b[0;34m\u001b[0m\u001b[0m\n\u001b[0m\u001b[1;32m      2\u001b[0m \u001b[0;34m\u001b[0m\u001b[0m\n\u001b[1;32m      3\u001b[0m \u001b[0mf\u001b[0m \u001b[0;34m=\u001b[0m \u001b[0mDigraph\u001b[0m\u001b[0;34m(\u001b[0m\u001b[0;34m'ML_workflow'\u001b[0m\u001b[0;34m,\u001b[0m \u001b[0mfilename\u001b[0m\u001b[0;34m=\u001b[0m\u001b[0;34m'ML_workflow.gv'\u001b[0m\u001b[0;34m)\u001b[0m\u001b[0;34m\u001b[0m\u001b[0;34m\u001b[0m\u001b[0m\n\u001b[1;32m      4\u001b[0m \u001b[0;31m# f.attr(rankdir='LR', size='5,3')\u001b[0m\u001b[0;34m\u001b[0m\u001b[0;34m\u001b[0m\u001b[0;34m\u001b[0m\u001b[0m\n\u001b[1;32m      5\u001b[0m \u001b[0;34m\u001b[0m\u001b[0m\n",
      "\u001b[0;31mModuleNotFoundError\u001b[0m: No module named 'graphviz'"
     ]
    }
   ],
   "source": [
    "from graphviz import Digraph\n",
    "\n",
    "f = Digraph('ML_workflow', filename='ML_workflow.gv')\n",
    "# f.attr(rankdir='LR', size='5,3')\n",
    "\n",
    "f.attr('node', shape='doublecircle')\n",
    "f.node('data_explorer', '探索数据\\n'\n",
    "                        '* 看看feature数目\\n'\n",
    "                        '* 看看feature的属性分类\\n'\n",
    "                        '* 看看样本总数及标签分布\\n'\n",
    "                        '* 看看Nan值及补充\\n'\n",
    "                        '* 看看feature与标签的相关系数\\n')\n",
    "\n",
    "f.node('run_baseline', '选择模型跑基线\\n'\n",
    "                        '* 先用简单模型，例如线性模型\\n '\n",
    "                        '* 再用复杂模型，例如GBDT，DL等\\n')\n",
    "\n",
    "f.node('feature_engineering', '特征工程\\n' \n",
    "                              '* one-hot encoding, word embedding\\n '\n",
    "                              '* 离散化，标准化 - 标准化对某些算法提升很明显\\n')\n",
    "\n",
    "f.node('sample_engineering', '样本工程\\n' \n",
    "                              '* 调整样本集合，一般是增加样本个数\\n '\n",
    "                              '* 观察样本的比例，人为调整比例\\n')\n",
    "\n",
    "f.node('model_engineering', '模型工程\\n'\n",
    "                            '* 有的时候很难确定哪个模型好\\n'\n",
    "                            '* 应该优先选择可解释性强的\\n'\n",
    "                            '* 使用shap等库帮助分析\\n'\n",
    "                            '* ensemble方法\\n')\n",
    "\n",
    "f.node('adjust_hyper_parameter', '超参调整\\n'\n",
    "                                 '* 正则项\\n'\n",
    "                                 '* epoch，batch_size\\n')\n",
    "\n",
    "f.node('improve_time', '时间过长优化\\n'\n",
    "                       '* 特征降维\\n'\n",
    "                       '* 调整epoch, batch_size\\n')\n",
    "\n",
    "f.node('model_improve', '模型提升\\n'\n",
    "                        '* 神经网络改变结构 one word in -> two word in\\n'\n",
    "                        '* 新论文等，通常是思路上的进化\\n')\n",
    "\n",
    "\n",
    "f.edge('data_explorer', 'run_baseline', label='开始学习')\n",
    "f.edge('run_baseline', 'feature_engineering', label='调整特征')\n",
    "f.edge('run_baseline', 'sample_engineering', label='调整样本')\n",
    "f.edge('run_baseline', 'model_engineering', label='调整模型')\n",
    "f.edge('model_engineering', 'adjust_hyper_parameter', label='调整模型超参')\n",
    "f.edge('model_engineering', 'sample_engineering', label='调整样本改进模型')\n",
    "f.edge('model_engineering', 'feature_engineering', label='调整特征改进模型')\n",
    "f.edge('model_engineering', 'improve_time', label='模型时间运行过长')\n",
    "f.edge('model_engineering', 'model_improve', label='创新性的改进模型')\n",
    "\n",
    "\n",
    "f.view()"
   ]
  },
  {
   "cell_type": "code",
   "execution_count": null,
   "metadata": {},
   "outputs": [],
   "source": []
  }
 ],
 "metadata": {
  "kernelspec": {
   "display_name": "Python 3",
   "language": "python",
   "name": "python3"
  },
  "language_info": {
   "codemirror_mode": {
    "name": "ipython",
    "version": 3
   },
   "file_extension": ".py",
   "mimetype": "text/x-python",
   "name": "python",
   "nbconvert_exporter": "python",
   "pygments_lexer": "ipython3",
   "version": "3.7.4"
  }
 },
 "nbformat": 4,
 "nbformat_minor": 4
}
